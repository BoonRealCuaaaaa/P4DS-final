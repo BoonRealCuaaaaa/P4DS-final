{
 "cells": [
  {
   "cell_type": "markdown",
   "metadata": {},
   "source": [
    "<div class=\"warning\" style='background-color:#AEC6CF; color: #000435; border-left: solid #003e87 10px; border-radius: 4px; padding:0.7em;'>\n",
    "<span>\n",
    "<p style='margin-top:1em; text-align:center'>\n",
    "<b>ĐỒ ÁN CUỐI KỲ</b>\n",
    "<p style='margin-top:1em; text-align:center'>\n",
    "<b>CSC17104 - Lập trình cho Khoa học Dữ liệu, 21KHDL1</b></p>\n",
    "<p style='margin-left:1em;'>\n",
    "\n",
    "**Thành viên thực hiện:**\n",
    "- 21127612 - Nguyễn Khánh Hoàng ('nkhoang21@clc.fitus.edu.vn')\n",
    "- 21127423 - Trần Hiếu Tâm ('thtam21@clc.fitus.edu.vn')\n",
    "\n",
    "**Tên đề tài:** Phân tích mức lương của Lập trình viên trên toàn cầu, giai đoạn 2021-2023 <br><br>\n",
    "</p>\n",
    "</p></span>\n",
    "</div>"
   ]
  },
  {
   "cell_type": "markdown",
   "metadata": {},
   "source": [
    "**<h1><center>Phần 1: Thu thập dữ liệu</center></h1>**\n",
    "<a id=\"top\"></a>\n",
    "<div class=\"list-group\" id=\"list-tab\" role=\"tablist\">\n",
    "    <h3 style=\"text-align: left; font-family:arial; padding: 14px; line-height: 1; border-radius:10px\"><b>Mục lục</b></h3>\n",
    "    \n",
    "   * [1. Chủ đề và nguồn thu thập dữ liệu](#1)\n",
    "   * [2. License và Copyright](#2)\n",
    "   * [3. Cách tác giả thu thập dữ liệu](#3)"
   ]
  },
  {
   "cell_type": "markdown",
   "metadata": {},
   "source": [
    "<a id=\"1\"></a>\n",
    "#### <div style=\"text-align: left; background-color:#003e87; font-family:arial;color: white; padding: 14px; line-height: 1;font-weight: bold; border-radius:10px\">1. Chủ đề và nguồn thu thập dữ liệu</div>\n"
   ]
  },
  {
   "cell_type": "markdown",
   "metadata": {},
   "source": [
    "- Bộ dữ liệu [Stack Overflow Annual Developer Survey](https://insights.stackoverflow.com/survey) là nguồn thông tin quan trọng về ngành công nghiệp phần mềm và cung cấp góc nhìn tổng quan về cộng đồng lập trình viên trên toàn cầu. Trong bộ dữ liệu này, mỗi hàng đại diện cho một câu trả lời từ một người tham gia khảo sát, mang đến thông tin đa dạng về ngôn ngữ lập trình, công nghệ, mức lương, giáo dục, và các xu hướng trong ngành.\n",
    "- Với đồ án này, nhóm sử dụng bộ dữ liệu được thu thập từ năm 2021 đến năm 2023 nhằm khảo sát áp lực của đại dịch Covid-19 lên ngành cũng như đưa ra các thông tin giá trị xung quanh ngành công nghệ thông tin."
   ]
  },
  {
   "cell_type": "markdown",
   "metadata": {},
   "source": [
    "<a id=\"2\"></a>\n",
    "#### <div style=\"text-align: left; background-color:#003e87; font-family:arial;color: white; padding: 14px; line-height: 1;font-weight: bold; border-radius:10px\">2. License và Copyright</div>\n"
   ]
  },
  {
   "cell_type": "markdown",
   "metadata": {},
   "source": [
    "- Bộ dữ liệu được cung cấp dưới giấy phép [Open Database License (ODbL)](http://opendatacommons.org/licenses/odbl/1.0/). Mọi quyền liên quan tới nội dung được cấp phép theo [Database Contents License](http://opendatacommons.org/licenses/dbcl/1.0/).\n",
    "- Như vậy, nhóm có quyền tự do chia sẻ, điều chỉnh và tạo ra các nhận định từ bộ dữ liệu trên."
   ]
  },
  {
   "cell_type": "markdown",
   "metadata": {},
   "source": [
    "<a id=\"3\"></a>\n",
    "#### <div style=\"text-align: left; background-color:#003e87; font-family:arial;color: white; padding: 14px; line-height: 1;font-weight: bold; border-radius:10px\">3. Cách tác giả thu thập dữ liệu</div>"
   ]
  },
  {
   "cell_type": "markdown",
   "metadata": {},
   "source": [
    "- Bộ dữ liệu được thu thập thông qua cuộc khảo sát hàng năm của Stack Overflow. Dữ liệu cũng đã được làm sạch và loại bỏ các dòng liên quan tới quyền riêng tư của người tham gia khảo sát.\n",
    "- Cuộc khảo sát được tổ chức thành nhiều nhóm câu hỏi, chia thành các nhóm như thông tin người tham gia, công việc, trình độ học vấn, công việc và sự nghiệp, văn hóa công nghệ và về việc sử dụng Stack Overflow.\n",
    "- Stack Overflow cũng thực hiện việc kiểm duyệt các khảo sát chất lượng, mang lại giá trị cho việc phân tích dựa trên thời gian làm khảo sát và tính hoàn thiện của nó. Đồng thời, họ cũng chuyển đổi mức lương thành USD, sử dụng mức tỷ giá theo thời điểm được công bố trong [insight/methology](https://survey.stackoverflow.co/2022#methodology-general)\n",
    "\n"
   ]
  }
 ],
 "metadata": {
  "language_info": {
   "name": "python"
  }
 },
 "nbformat": 4,
 "nbformat_minor": 2
}
