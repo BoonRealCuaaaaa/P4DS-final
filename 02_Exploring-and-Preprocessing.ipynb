{
 "cells": [
  {
   "cell_type": "markdown",
   "metadata": {},
   "source": [
    "<div class=\"warning\" style='background-color:#AEC6CF; color: #000435; border-left: solid #003e87 10px; border-radius: 4px; padding:0.7em;'>\n",
    "<span>\n",
    "<p style='margin-top:1em; text-align:center'>\n",
    "<b>ĐỒ ÁN CUỐI KỲ</b>\n",
    "<p style='margin-top:1em; text-align:center'>\n",
    "<b>CSC17104 - Lập trình cho Khoa học Dữ liệu, 21KHDL1</b></p>\n",
    "<p style='margin-left:1em;'>\n",
    "\n",
    "**Thành viên thực hiện:**\n",
    "- 21127612 - Nguyễn Khánh Hoàng ('nkhoang21@clc.fitus.edu.vn')\n",
    "- 21127423 - Trần Hiếu Tâm ('thtam21@clc.fitus.edu.vn')\n",
    "\n",
    "**Tên đề tài:** Phân tích mức lương của Lập trình viên trên toàn cầu, giai đoạn 2021-2023 <br><br>\n",
    "</p>\n",
    "</p></span>\n",
    "</div>"
   ]
  },
  {
   "cell_type": "markdown",
   "metadata": {},
   "source": [
    "**<h1><center>Phần 2: Khám phá và tiền xử lý dữ liệu</center></h1>**\n",
    "<a id=\"top\"></a>\n",
    "<div class=\"list-group\" id=\"list-tab\" role=\"tablist\">\n",
    "    <h3 style=\"text-align: left; font-family:arial; padding: 14px; line-height: 1; border-radius:10px\"><b>Mục lục</b></h3>\n",
    "    \n",
    "   * [1. Khám phá dữ liệu](#1)\n",
    "        - [Đọc dữ liệu](#11)\n",
    "        - [Dữ liệu có bao nhiêu dòng và cột?](#12)\n",
    "        - [Ý nghĩa của mỗi dòng; Có dòng nào bị trùng không?](#13)\n",
    "        - [Ý nghĩa từng cột](#14)\n",
    "        - [Kiểu dữ liệu từng cột](#15)\n",
    "        - [Phân bổ dữ liệu](#16)\n",
    "        - [Xuất file .csv để thuận tiện cho các bước sau](#17)"
   ]
  },
  {
   "cell_type": "markdown",
   "metadata": {},
   "source": [
    "### **Các thư viện cần thiết**"
   ]
  },
  {
   "cell_type": "code",
   "execution_count": 69,
   "metadata": {},
   "outputs": [],
   "source": [
    "import numpy as np\n",
    "import pandas as pd\n",
    "import matplotlib.pyplot as plt\n",
    "pd.set_option('display.max_columns', None)"
   ]
  },
  {
   "cell_type": "markdown",
   "metadata": {},
   "source": [
    "<a id=\"1\"></a>\n",
    "#### <div style=\"text-align: left; background-color:#003e87; font-family:arial;color: white; padding: 14px; line-height: 1;font-weight: bold; border-radius:10px\">1. Khám phá dữ liệu</div>"
   ]
  },
  {
   "cell_type": "markdown",
   "metadata": {},
   "source": [
    "<a id=\"11\"></a>\n",
    "\n",
    "#### **<font color = #E7B10A> 🔍Đọc dữ liệu** </font>"
   ]
  },
  {
   "cell_type": "code",
   "execution_count": 70,
   "metadata": {},
   "outputs": [],
   "source": [
    "pd.set_option('display.max_columns', None)\n",
    "pd.set_option('display.max_rows', None)\n",
    "\n",
    "df_2021 = pd.read_csv('./Data/survey_results_public_2021.csv')\n",
    "df_2022 = pd.read_csv('./Data/survey_results_public_2022.csv')\n",
    "df_2023 = pd.read_csv('./Data/survey_results_public_2023.csv')"
   ]
  },
  {
   "cell_type": "markdown",
   "metadata": {},
   "source": [
    "<p>Vì bộ data nhóm dự định tạo được kết hợp từ 3 bộ data trên, nên trước hết, nhóm sẽ xem qua thông tin của 3 bộ dữ liệu năm 2021, 2022, 2023</p>"
   ]
  },
  {
   "cell_type": "code",
   "execution_count": 71,
   "metadata": {},
   "outputs": [
    {
     "name": "stdout",
     "output_type": "stream",
     "text": [
      "Kích thước của bộ dữ liệu năm 2021:  (83439, 48)\n",
      "Kích thước của bộ dữ liệu năm 2022:  (73268, 79)\n",
      "Kích thước của bộ dữ liệu năm 2022:  (89184, 84)\n"
     ]
    }
   ],
   "source": [
    "print(\"Kích thước của bộ dữ liệu năm 2021: \",df_2021.shape)\n",
    "print(\"Kích thước của bộ dữ liệu năm 2022: \",df_2022.shape)\n",
    "print(\"Kích thước của bộ dữ liệu năm 2022: \",df_2023.shape)"
   ]
  },
  {
   "cell_type": "markdown",
   "metadata": {},
   "source": [
    "Có thể thấy, số lượng cột của 3 bộ dữ liệu là khác nhau, ta hãy xem qua các cột của từng bộ dữ liệu"
   ]
  },
  {
   "cell_type": "code",
   "execution_count": 72,
   "metadata": {},
   "outputs": [
    {
     "name": "stdout",
     "output_type": "stream",
     "text": [
      "Cột lấy ra từ dữ liệu 2021:  Index(['ResponseId', 'MainBranch', 'Employment', 'Country', 'US_State',\n",
      "       'UK_Country', 'EdLevel', 'Age1stCode', 'LearnCode', 'YearsCode',\n",
      "       'YearsCodePro', 'DevType', 'OrgSize', 'Currency', 'CompTotal',\n",
      "       'CompFreq', 'LanguageHaveWorkedWith', 'LanguageWantToWorkWith',\n",
      "       'DatabaseHaveWorkedWith', 'DatabaseWantToWorkWith',\n",
      "       'PlatformHaveWorkedWith', 'PlatformWantToWorkWith',\n",
      "       'WebframeHaveWorkedWith', 'WebframeWantToWorkWith',\n",
      "       'MiscTechHaveWorkedWith', 'MiscTechWantToWorkWith',\n",
      "       'ToolsTechHaveWorkedWith', 'ToolsTechWantToWorkWith',\n",
      "       'NEWCollabToolsHaveWorkedWith', 'NEWCollabToolsWantToWorkWith', 'OpSys',\n",
      "       'NEWStuck', 'NEWSOSites', 'SOVisitFreq', 'SOAccount', 'SOPartFreq',\n",
      "       'SOComm', 'NEWOtherComms', 'Age', 'Gender', 'Trans', 'Sexuality',\n",
      "       'Ethnicity', 'Accessibility', 'MentalHealth', 'SurveyLength',\n",
      "       'SurveyEase', 'ConvertedCompYearly'],\n",
      "      dtype='object')\n",
      "-------------------------------------------------------------------------------\n",
      "Cột lấy ra từ dữ liệu 2022:  Index(['ResponseId', 'MainBranch', 'Employment', 'RemoteWork',\n",
      "       'CodingActivities', 'EdLevel', 'LearnCode', 'LearnCodeOnline',\n",
      "       'LearnCodeCoursesCert', 'YearsCode', 'YearsCodePro', 'DevType',\n",
      "       'OrgSize', 'PurchaseInfluence', 'BuyNewTool', 'Country', 'Currency',\n",
      "       'CompTotal', 'CompFreq', 'LanguageHaveWorkedWith',\n",
      "       'LanguageWantToWorkWith', 'DatabaseHaveWorkedWith',\n",
      "       'DatabaseWantToWorkWith', 'PlatformHaveWorkedWith',\n",
      "       'PlatformWantToWorkWith', 'WebframeHaveWorkedWith',\n",
      "       'WebframeWantToWorkWith', 'MiscTechHaveWorkedWith',\n",
      "       'MiscTechWantToWorkWith', 'ToolsTechHaveWorkedWith',\n",
      "       'ToolsTechWantToWorkWith', 'NEWCollabToolsHaveWorkedWith',\n",
      "       'NEWCollabToolsWantToWorkWith', 'OpSysProfessional use',\n",
      "       'OpSysPersonal use', 'VersionControlSystem', 'VCInteraction',\n",
      "       'VCHostingPersonal use', 'VCHostingProfessional use',\n",
      "       'OfficeStackAsyncHaveWorkedWith', 'OfficeStackAsyncWantToWorkWith',\n",
      "       'OfficeStackSyncHaveWorkedWith', 'OfficeStackSyncWantToWorkWith',\n",
      "       'Blockchain', 'NEWSOSites', 'SOVisitFreq', 'SOAccount', 'SOPartFreq',\n",
      "       'SOComm', 'Age', 'Gender', 'Trans', 'Sexuality', 'Ethnicity',\n",
      "       'Accessibility', 'MentalHealth', 'TBranch', 'ICorPM', 'WorkExp',\n",
      "       'Knowledge_1', 'Knowledge_2', 'Knowledge_3', 'Knowledge_4',\n",
      "       'Knowledge_5', 'Knowledge_6', 'Knowledge_7', 'Frequency_1',\n",
      "       'Frequency_2', 'Frequency_3', 'TimeSearching', 'TimeAnswering',\n",
      "       'Onboarding', 'ProfessionalTech', 'TrueFalse_1', 'TrueFalse_2',\n",
      "       'TrueFalse_3', 'SurveyLength', 'SurveyEase', 'ConvertedCompYearly'],\n",
      "      dtype='object')\n",
      "-------------------------------------------------------------------------------\n",
      "Cột lấy ra từ dữ liệu 2022:  Index(['ResponseId', 'Q120', 'MainBranch', 'Age', 'Employment', 'RemoteWork',\n",
      "       'CodingActivities', 'EdLevel', 'LearnCode', 'LearnCodeOnline',\n",
      "       'LearnCodeCoursesCert', 'YearsCode', 'YearsCodePro', 'DevType',\n",
      "       'OrgSize', 'PurchaseInfluence', 'TechList', 'BuyNewTool', 'Country',\n",
      "       'Currency', 'CompTotal', 'LanguageHaveWorkedWith',\n",
      "       'LanguageWantToWorkWith', 'DatabaseHaveWorkedWith',\n",
      "       'DatabaseWantToWorkWith', 'PlatformHaveWorkedWith',\n",
      "       'PlatformWantToWorkWith', 'WebframeHaveWorkedWith',\n",
      "       'WebframeWantToWorkWith', 'MiscTechHaveWorkedWith',\n",
      "       'MiscTechWantToWorkWith', 'ToolsTechHaveWorkedWith',\n",
      "       'ToolsTechWantToWorkWith', 'NEWCollabToolsHaveWorkedWith',\n",
      "       'NEWCollabToolsWantToWorkWith', 'OpSysPersonal use',\n",
      "       'OpSysProfessional use', 'OfficeStackAsyncHaveWorkedWith',\n",
      "       'OfficeStackAsyncWantToWorkWith', 'OfficeStackSyncHaveWorkedWith',\n",
      "       'OfficeStackSyncWantToWorkWith', 'AISearchHaveWorkedWith',\n",
      "       'AISearchWantToWorkWith', 'AIDevHaveWorkedWith', 'AIDevWantToWorkWith',\n",
      "       'NEWSOSites', 'SOVisitFreq', 'SOAccount', 'SOPartFreq', 'SOComm',\n",
      "       'SOAI', 'AISelect', 'AISent', 'AIAcc', 'AIBen',\n",
      "       'AIToolInterested in Using', 'AIToolCurrently Using',\n",
      "       'AIToolNot interested in Using', 'AINextVery different',\n",
      "       'AINextNeither different nor similar', 'AINextSomewhat similar',\n",
      "       'AINextVery similar', 'AINextSomewhat different', 'TBranch', 'ICorPM',\n",
      "       'WorkExp', 'Knowledge_1', 'Knowledge_2', 'Knowledge_3', 'Knowledge_4',\n",
      "       'Knowledge_5', 'Knowledge_6', 'Knowledge_7', 'Knowledge_8',\n",
      "       'Frequency_1', 'Frequency_2', 'Frequency_3', 'TimeSearching',\n",
      "       'TimeAnswering', 'ProfessionalTech', 'Industry', 'SurveyLength',\n",
      "       'SurveyEase', 'ConvertedCompYearly'],\n",
      "      dtype='object')\n"
     ]
    }
   ],
   "source": [
    "print(\"Cột lấy ra từ dữ liệu 2021: \",df_2021.columns)\n",
    "print(\"-------------------------------------------------------------------------------\")\n",
    "print(\"Cột lấy ra từ dữ liệu 2022: \",df_2022.columns)\n",
    "print(\"-------------------------------------------------------------------------------\")\n",
    "print(\"Cột lấy ra từ dữ liệu 2022: \",df_2023.columns)"
   ]
  },
  {
   "cell_type": "markdown",
   "metadata": {},
   "source": [
    "Các cột chung là: "
   ]
  },
  {
   "cell_type": "code",
   "execution_count": 73,
   "metadata": {},
   "outputs": [
    {
     "data": {
      "text/plain": [
       "Index(['ResponseId', 'MainBranch', 'Employment', 'Country', 'EdLevel',\n",
       "       'LearnCode', 'YearsCode', 'YearsCodePro', 'DevType', 'OrgSize',\n",
       "       'Currency', 'CompTotal', 'LanguageHaveWorkedWith',\n",
       "       'LanguageWantToWorkWith', 'DatabaseHaveWorkedWith',\n",
       "       'DatabaseWantToWorkWith', 'PlatformHaveWorkedWith',\n",
       "       'PlatformWantToWorkWith', 'WebframeHaveWorkedWith',\n",
       "       'WebframeWantToWorkWith', 'MiscTechHaveWorkedWith',\n",
       "       'MiscTechWantToWorkWith', 'ToolsTechHaveWorkedWith',\n",
       "       'ToolsTechWantToWorkWith', 'NEWCollabToolsHaveWorkedWith',\n",
       "       'NEWCollabToolsWantToWorkWith', 'NEWSOSites', 'SOVisitFreq',\n",
       "       'SOAccount', 'SOPartFreq', 'SOComm', 'Age', 'SurveyLength',\n",
       "       'SurveyEase', 'ConvertedCompYearly'],\n",
       "      dtype='object')"
      ]
     },
     "execution_count": 73,
     "metadata": {},
     "output_type": "execute_result"
    }
   ],
   "source": [
    "common_columns_21_22 = df_2021.columns.intersection(df_2022.columns)\n",
    "common_columns_all = common_columns_21_22.intersection(df_2023.columns)\n",
    "common_columns_all"
   ]
  },
  {
   "cell_type": "markdown",
   "metadata": {},
   "source": [
    "Nhóm tạo 1 bộ dữ liệu, được lấy từ việc giao các trường của 3 năm lại với nhau, với việc thêm vào trường `Year` để thuận tiện cho việc xử lý, nhóm cũng thêm vào một cột mà nhóm quan tâm là cột `RemoteWork` (chỉ có trong năm 2022 và 2023), với năm 2021 nhóm sẽ thêm cột đó với giá trị Unknow"
   ]
  },
  {
   "cell_type": "code",
   "execution_count": 74,
   "metadata": {},
   "outputs": [],
   "source": [
    "df_2021['Year'] = 2021\n",
    "df_2022['Year'] = 2022\n",
    "df_2023['Year'] = 2023\n",
    "\n",
    "df_2021['RemoteWork']='Unknow'\n",
    "\n",
    "\n",
    "df_new = pd.concat([df_2021[list(common_columns_all)+['Year','RemoteWork']], df_2022[list(common_columns_all)+['Year','RemoteWork']], df_2023[list(common_columns_all)+['Year','RemoteWork']]], ignore_index=True)"
   ]
  },
  {
   "cell_type": "markdown",
   "metadata": {},
   "source": [
    "<a id=\"12\"></a>\n",
    "\n",
    "#### **<font color = #E7B10A>🔍Dữ liệu có bao nhiêu dòng và cột?</font>**"
   ]
  },
  {
   "cell_type": "code",
   "execution_count": 75,
   "metadata": {},
   "outputs": [
    {
     "data": {
      "text/plain": [
       "(245891, 37)"
      ]
     },
     "execution_count": 75,
     "metadata": {},
     "output_type": "execute_result"
    }
   ],
   "source": [
    "# df.shape\n",
    "df_new.shape"
   ]
  },
  {
   "cell_type": "markdown",
   "metadata": {},
   "source": [
    "Trả lời: Dữ liệu có <b> 245891 dòng </b> và <b> 37 cột </b> "
   ]
  },
  {
   "cell_type": "markdown",
   "metadata": {},
   "source": [
    "<a id=\"13\"></a>\n",
    "\n",
    "#### **<font color = #E7B10A>🔍Ý nghĩa của mỗi dòng</font>**"
   ]
  },
  {
   "cell_type": "markdown",
   "metadata": {},
   "source": [
    "Trả lời: Mỗi dòng là câu trả lời khảo sát của một người tham gia. Mọi người tiến hành tham gia khảo sát trực tiếp trên nền tảng Stack Overflow. Theo tìm hiểu của nhóm, Stack Overflow sử dụng nền tảng Survey Monkey cho việc tạo và quản lý các cuộc khảo sát"
   ]
  },
  {
   "cell_type": "markdown",
   "metadata": {},
   "source": [
    "#### **<font color = #E7B10A>🔍Có dòng nào bị trùng không?</font>**"
   ]
  },
  {
   "cell_type": "code",
   "execution_count": 76,
   "metadata": {},
   "outputs": [
    {
     "data": {
      "text/plain": [
       "0"
      ]
     },
     "execution_count": 76,
     "metadata": {},
     "output_type": "execute_result"
    }
   ],
   "source": [
    "df_new.duplicated().sum()"
   ]
  },
  {
   "cell_type": "markdown",
   "metadata": {},
   "source": [
    "Trả lời: Không có dòng nào bị trùng trong bộ dữ liệu"
   ]
  },
  {
   "cell_type": "markdown",
   "metadata": {},
   "source": [
    "<a id=\"14\"></a>\n",
    "\n",
    "#### **<font color = #E7B10A>🔍Ý nghĩa từng cột</font>**"
   ]
  },
  {
   "cell_type": "markdown",
   "metadata": {},
   "source": [
    "Mã nguồn dưới đây dùng để truy xuất bản mô tả chi tiết của một số câu hỏi khảo sát. Tham khảo từ file `survey_results_schema.csv` do Stack Overflow cung cấp. "
   ]
  },
  {
   "cell_type": "code",
   "execution_count": 77,
   "metadata": {},
   "outputs": [
    {
     "data": {
      "text/html": [
       "<div>\n",
       "<style scoped>\n",
       "    .dataframe tbody tr th:only-of-type {\n",
       "        vertical-align: middle;\n",
       "    }\n",
       "\n",
       "    .dataframe tbody tr th {\n",
       "        vertical-align: top;\n",
       "    }\n",
       "\n",
       "    .dataframe thead th {\n",
       "        text-align: right;\n",
       "    }\n",
       "</style>\n",
       "<table border=\"1\" class=\"dataframe\">\n",
       "  <thead>\n",
       "    <tr style=\"text-align: right;\">\n",
       "      <th></th>\n",
       "      <th>field</th>\n",
       "      <th>meaning</th>\n",
       "    </tr>\n",
       "  </thead>\n",
       "  <tbody>\n",
       "    <tr>\n",
       "      <th>0</th>\n",
       "      <td>MainBranch</td>\n",
       "      <td>Which of the following options best describes you today? Here, by \"developer\" we mean \"someone who writes code.\"  *</td>\n",
       "    </tr>\n",
       "    <tr>\n",
       "      <th>1</th>\n",
       "      <td>Employment</td>\n",
       "      <td>Which of the following best describes your current employment status?</td>\n",
       "    </tr>\n",
       "    <tr>\n",
       "      <th>2</th>\n",
       "      <td>EdLevel</td>\n",
       "      <td>Which of the following best describes the highest level of formal education that you’ve completed? *</td>\n",
       "    </tr>\n",
       "    <tr>\n",
       "      <th>3</th>\n",
       "      <td>LearnCode</td>\n",
       "      <td>How did you learn to code? Select all that apply.</td>\n",
       "    </tr>\n",
       "    <tr>\n",
       "      <th>4</th>\n",
       "      <td>YearsCode</td>\n",
       "      <td>Including any education, how many years have you been coding in total?</td>\n",
       "    </tr>\n",
       "    <tr>\n",
       "      <th>5</th>\n",
       "      <td>YearsCodePro</td>\n",
       "      <td>NOT including education, how many years have you coded professionally (as a part of your work)?</td>\n",
       "    </tr>\n",
       "    <tr>\n",
       "      <th>6</th>\n",
       "      <td>DevType</td>\n",
       "      <td>Which of the following describes your current job? Please select all that apply.</td>\n",
       "    </tr>\n",
       "    <tr>\n",
       "      <th>7</th>\n",
       "      <td>OrgSize</td>\n",
       "      <td>Approximately how many people are employed by the company or organization you currently work for?</td>\n",
       "    </tr>\n",
       "    <tr>\n",
       "      <th>8</th>\n",
       "      <td>Country</td>\n",
       "      <td>Where do you live?  *</td>\n",
       "    </tr>\n",
       "    <tr>\n",
       "      <th>9</th>\n",
       "      <td>Currency</td>\n",
       "      <td>Which currency do you use day-to-day? If your answer is complicated, please pick the one you're most comfortable estimating in. *</td>\n",
       "    </tr>\n",
       "    <tr>\n",
       "      <th>10</th>\n",
       "      <td>CompTotal</td>\n",
       "      <td>What is your current total compensation (salary, bonuses, and perks, before taxes and deductions)? Please enter a whole number in the box below, without any punctuation.  If you are paid hourly, please estimate an equivalent weekly, monthly, or yearly salary. If you prefer not to answer, please leave the box empty.</td>\n",
       "    </tr>\n",
       "    <tr>\n",
       "      <th>11</th>\n",
       "      <td>NEWSOSites</td>\n",
       "      <td>Which of the following Stack Overflow sites have you visited? Select all that apply.</td>\n",
       "    </tr>\n",
       "    <tr>\n",
       "      <th>12</th>\n",
       "      <td>SOVisitFreq</td>\n",
       "      <td>How frequently would you say you visit Stack Overflow?</td>\n",
       "    </tr>\n",
       "    <tr>\n",
       "      <th>13</th>\n",
       "      <td>SOAccount</td>\n",
       "      <td>Do you have a Stack Overflow account?</td>\n",
       "    </tr>\n",
       "    <tr>\n",
       "      <th>14</th>\n",
       "      <td>SOPartFreq</td>\n",
       "      <td>How frequently would you say you participate in Q&amp;amp;A on Stack Overflow? By participate we mean ask, answer, vote for, or comment on questions.</td>\n",
       "    </tr>\n",
       "    <tr>\n",
       "      <th>15</th>\n",
       "      <td>SOComm</td>\n",
       "      <td>Do you consider yourself a member of the Stack Overflow community?</td>\n",
       "    </tr>\n",
       "    <tr>\n",
       "      <th>16</th>\n",
       "      <td>Age</td>\n",
       "      <td>What is your age?</td>\n",
       "    </tr>\n",
       "    <tr>\n",
       "      <th>17</th>\n",
       "      <td>SurveyLength</td>\n",
       "      <td>How do you feel about the length of the survey this year?</td>\n",
       "    </tr>\n",
       "    <tr>\n",
       "      <th>18</th>\n",
       "      <td>SurveyEase</td>\n",
       "      <td>How easy or difficult was this survey to complete?</td>\n",
       "    </tr>\n",
       "  </tbody>\n",
       "</table>\n",
       "</div>"
      ],
      "text/plain": [
       "           field  \\\n",
       "0     MainBranch   \n",
       "1     Employment   \n",
       "2        EdLevel   \n",
       "3      LearnCode   \n",
       "4      YearsCode   \n",
       "5   YearsCodePro   \n",
       "6        DevType   \n",
       "7        OrgSize   \n",
       "8        Country   \n",
       "9       Currency   \n",
       "10     CompTotal   \n",
       "11    NEWSOSites   \n",
       "12   SOVisitFreq   \n",
       "13     SOAccount   \n",
       "14    SOPartFreq   \n",
       "15        SOComm   \n",
       "16           Age   \n",
       "17  SurveyLength   \n",
       "18    SurveyEase   \n",
       "\n",
       "                                                                                                                                                                                                                                                                                                                         meaning  \n",
       "0                                                                                                                                                                                                           Which of the following options best describes you today? Here, by \"developer\" we mean \"someone who writes code.\"  *   \n",
       "1                                                                                                                                                                                                                                                          Which of the following best describes your current employment status?  \n",
       "2                                                                                                                                                                                                                           Which of the following best describes the highest level of formal education that you’ve completed? *  \n",
       "3                                                                                                                                                                                                                                                                              How did you learn to code? Select all that apply.  \n",
       "4                                                                                                                                                                                                                                                         Including any education, how many years have you been coding in total?  \n",
       "5                                                                                                                                                                                                                                NOT including education, how many years have you coded professionally (as a part of your work)?  \n",
       "6                                                                                                                                                                                                                                               Which of the following describes your current job? Please select all that apply.  \n",
       "7                                                                                                                                                                                                                             Approximately how many people are employed by the company or organization you currently work for?   \n",
       "8                                                                                                                                                                                                                                                                                                         Where do you live?  *   \n",
       "9                                                                                                                                                                                              Which currency do you use day-to-day? If your answer is complicated, please pick the one you're most comfortable estimating in. *  \n",
       "10  What is your current total compensation (salary, bonuses, and perks, before taxes and deductions)? Please enter a whole number in the box below, without any punctuation.  If you are paid hourly, please estimate an equivalent weekly, monthly, or yearly salary. If you prefer not to answer, please leave the box empty.  \n",
       "11                                                                                                                                                                                                                                          Which of the following Stack Overflow sites have you visited? Select all that apply.  \n",
       "12                                                                                                                                                                                                                                                                        How frequently would you say you visit Stack Overflow?  \n",
       "13                                                                                                                                                                                                                                                                                         Do you have a Stack Overflow account?  \n",
       "14                                                                                                                                                                             How frequently would you say you participate in Q&amp;A on Stack Overflow? By participate we mean ask, answer, vote for, or comment on questions.  \n",
       "15                                                                                                                                                                                                                                                            Do you consider yourself a member of the Stack Overflow community?  \n",
       "16                                                                                                                                                                                                                                                                                                             What is your age?  \n",
       "17                                                                                                                                                                                                                                                                     How do you feel about the length of the survey this year?  \n",
       "18                                                                                                                                                                                                                                                                            How easy or difficult was this survey to complete?  "
      ]
     },
     "execution_count": 77,
     "metadata": {},
     "output_type": "execute_result"
    }
   ],
   "source": [
    "pd.set_option(\"max_colwidth\", None)\n",
    "df_schema=pd.read_csv('./Data/survey_results_schema.csv')\n",
    "df_schema=df_schema[df_schema['qname'].isin(common_columns_all)]\n",
    "\n",
    "df_schema=df_schema[['qname','question']].reset_index().drop('index',axis=1)\n",
    "df_schema=df_schema.rename(columns={'qname':'field','question':'meaning'})\n",
    "df_schema['meaning']=df_schema['meaning'].replace(r'<[^>]+>',\" \",regex=True)\n",
    "df_schema\n",
    "\n"
   ]
  },
  {
   "cell_type": "markdown",
   "metadata": {},
   "source": [
    "Bảng dưới đây mô tả ý nghĩa của 35 cột thông tin của bộ dữ liệu, các cột có dấu * là trường bắt buộc"
   ]
  },
  {
   "cell_type": "markdown",
   "metadata": {},
   "source": [
    "<table style=\"width: 100%; border-collapse: collapse;font-family: Arial, sans-serif;\">\n",
    "  <thead>\n",
    "    <tr>\n",
    "      <th style=\"min-width: 10px; width: 30px; background-color: #003e87; color: white; font-size :20px; font-weight: bold; text-align: left; padding: 8px;\">STT</th>\n",
    "      <th style=\"background-color: #003e87; color: white; font-size :20px; font-weight: bold; text-align: left; padding: 8px;\">Tên cột</th>\n",
    "      <th style=\"background-color: #003e87; color: white; font-size :20px; font-weight: bold; text-align: left; padding: 8px;\">Ý nghĩa</th>\n",
    "    </tr>\n",
    "  </thead>\n",
    "  <tbody>\n",
    "    <tr>\n",
    "      <td style=\"font-weight: bold; font-size: 17px; text-align: left;\">1*</td>\n",
    "      <td style=\"font-weight: bold; font-size: 17px; text-align: left;\">MainBranch</td>\n",
    "      <td style=\"font-size: 17px; text-align: left;\">Mô tả đúng nhất về trình độ làm việc hiện tại của đối tượng được khảo sát (ví dụ: profession, student,...).</td>\n",
    "    </tr>\n",
    "    <tr>\n",
    "      <td style=\"font-weight: bold; font-size: 17px; text-align: left;\">2</td>\n",
    "      <td style=\"font-weight: bold; font-size: 17px; text-align: left;\">Employment</td>\n",
    "      <td style=\"font-size: 17px; text-align: left;\">Tình trạng công việc hiện tại (Ví dụ: Full-time, Part-time,...).</td>\n",
    "    </tr>\n",
    "    <tr>\n",
    "      <td style=\"font-weight: bold; font-size: 17px; text-align: left;\">3*</td>\n",
    "      <td style=\"font-weight: bold; font-size: 17px; text-align: left;\">Country</td>\n",
    "      <td style=\"font-size: 17px; text-align: left;\">Nơi sống của đối tượng được khảo sát.</td>\n",
    "    </tr>\n",
    "    <tr>\n",
    "      <td style=\"font-weight: bold; font-size: 17px; text-align: left;\">4*</td>\n",
    "      <td style=\"font-weight: bold; font-size: 17px; text-align: left;\">EdLevel</td>\n",
    "      <td style=\"font-size: 17px; text-align: left;\">Bằng cấp học thuật cao nhất đã đạt được.</td>\n",
    "    </tr>\n",
    "    <tr>\n",
    "      <td style=\"font-weight: bold; font-size: 17px; text-align: left;\">5</td>\n",
    "      <td style=\"font-weight: bold; font-size: 17px; text-align: left;\">LearnCode</td>\n",
    "      <td style=\"font-size: 17px; text-align: left;\">Các hình thức học lập trình.</td>\n",
    "    </tr>\n",
    "    <tr>\n",
    "      <td style=\"font-weight: bold; font-size: 17px; text-align: left;\">6</td>\n",
    "      <td style=\"font-weight: bold; font-size: 17px; text-align: left;\">YearsCode</td>\n",
    "      <td style=\"font-size: 17px; text-align: left;\">Thời gian kinh nghiệm lập trình (đơn vị: năm, tính cả thời gian lập trình trong giai đoạn học tập).</td>\n",
    "    </tr>\n",
    "    <tr>\n",
    "      <td style=\"font-weight: bold; font-size: 17px; text-align: left;\">7</td>\n",
    "      <td style=\"font-weight: bold; font-size: 17px; text-align: left;\">YearsCodePro</td>\n",
    "      <td style=\"font-size: 17px; text-align: left;\">Thời gian kinh nghiệm lập trình chuyên nghiệp (đơn vị: năm, chỉ tính thời gian lập trình cho công việc).</td>\n",
    "    </tr>\n",
    "    <tr>\n",
    "      <td style=\"font-weight: bold; font-size: 17px; text-align: left;\">8</td>\n",
    "      <td style=\"font-weight: bold; font-size: 17px; text-align: left;\">DevType</td>\n",
    "      <td style=\"font-size: 17px; text-align: left;\">Các lĩnh vực trong công việc hiện tại của đối tượng được khảo sát (ví dụ: front-end, back-end, mobile,...).</td>\n",
    "    </tr>\n",
    "    <tr>\n",
    "      <td style=\"font-weight: bold; font-size: 17px; text-align: left;\">9</td>\n",
    "      <td style=\"font-weight: bold; font-size: 17px; text-align: left;\">OrgSize</td>\n",
    "      <td style=\"font-size: 17px; text-align: left;\">Quy mô số lượng nhân viên của công ty/tổ chức người khảo sát đang làm việc.</td>\n",
    "    </tr>\n",
    "    <tr>\n",
    "      <td style=\"font-weight: bold; font-size: 17px; text-align: left;\">10*</td>\n",
    "      <td style=\"font-weight: bold; font-size: 17px; text-align: left;\">Currency</td>\n",
    "      <td style=\"font-size: 17px; text-align: left;\">Đơn vị tiền tệ đối tượng khảo sát sử dụng hằng ngày.</td>\n",
    "    </tr>\n",
    "    <tr>\n",
    "      <td style=\"font-weight: bold; font-size: 17px; text-align: left;\">11</td>\n",
    "      <td style=\"font-weight: bold; font-size: 17px; text-align: left;\">CompTotal</td>\n",
    "      <td style=\"font-size: 17px; text-align: left;\">Tổng thu nhập hiện tại của đối tượng được khảo sát (trước thuế và chưa tính đến các khoản khấu trừ).</td>\n",
    "    </tr>\n",
    "    <tr>\n",
    "      <td style=\"font-weight: bold; font-size: 17px; text-align: left;\">12-13</td>\n",
    "      <td style=\"font-weight: bold; font-size: 17px; text-align: left;\">LanguageHaveWorkedWith, LanguageWantToWorkWith</td>\n",
    "      <td style=\"font-size: 17px; text-align: left;\">Ngôn ngữ lập trình mà đối tượng được khảo sát sử dụng khi làm việc, muốn sử dụng trong công việc. .</td>\n",
    "    </tr>\n",
    "    <tr>\n",
    "      <td style=\"font-weight: bold; font-size: 17px; text-align: left;\">14-15</td>\n",
    "      <td style=\"font-weight: bold; font-size: 17px; text-align: left;\">DatabaseHaveWorkedWith, DatabaseWantToWorkWith</td>\n",
    "      <td style=\"font-size: 17px; text-align: left;\">Cơ sở dữ liệu mà đối tượng được khảo sát sử dụng khi làm việc, muốn sử dụng trong công việc.</td>\n",
    "    </tr>\n",
    "    <tr>\n",
    "      <td style=\"font-weight: bold; font-size: 17px; text-align: left;\">16-17</td>\n",
    "      <td style=\"font-weight: bold; font-size: 17px; text-align: left;\">PlatformHaveWorkedWith, PlatformWantToWorkWith</td>\n",
    "      <td style=\"font-size: 17px; text-align: left;\">Nền tảng mà đối tượng được khảo sát sử dụng khi làm việc, muốn sử dụng trong công việc.</td>\n",
    "    </tr>\n",
    "    <tr>\n",
    "      <td style=\"font-weight: bold; font-size: 17px; text-align: left;\">18-19</td>\n",
    "      <td style=\"font-weight: bold; font-size: 17px; text-align: left;\">WebframeHaveWorkedWith, WebframeWantToWorkWith</td>\n",
    "      <td style=\"font-size: 17px; text-align: left;\">Webframe mà đối tượng được khảo sát sử dụng khi làm việc, muốn sử dụng trong công việc.</td>\n",
    "    </tr>\n",
    "    <tr>\n",
    "      <td style=\"font-weight: bold; font-size: 17px; text-align: left;\">20-21</td>\n",
    "      <td style=\"font-weight: bold; font-size: 17px; text-align: left;\">MiscTechHaveWorkedWith, MiscTechWantToWorkWith</td>\n",
    "      <td style=\"font-size: 17px; text-align: left;\">MiscTech mà đối tượng được khảo sát sử dụng khi làm việc, muốn sử dụng trong công việc.</td>\n",
    "    </tr>\n",
    "    <tr>\n",
    "      <td style=\"font-weight: bold; font-size: 17px; text-align: left;\">22-23</td>\n",
    "      <td style=\"font-weight: bold; font-size: 17px; text-align: left;\">ToolsTechHaveWorkedWith, ToolsTechWantToWorkWith</td>\n",
    "      <td style=\"font-size: 17px; text-align: left;\">ToolsTech mà đối tượng được khảo sát sử dụng khi làm việc, muốn sử dụng trong công việc.</td>\n",
    "    </tr>\n",
    "    <tr>\n",
    "      <td style=\"font-weight: bold; font-size: 17px; text-align: left;\">24-25</td>\n",
    "      <td style=\"font-weight: bold; font-size: 17px; text-align: left;\">NEWCollabToolsHaveWorkedWith, NEWCollabToolsWantToWorkWith</td>\n",
    "      <td style=\"font-size: 17px; text-align: left;\">Công cụ cộng tác mới mà đối tượng được khảo sát sử dụng khi làm việc, muốn sử dụng trong công việc.</td>\n",
    "    </tr>\n",
    "    <tr>\n",
    "      <td style=\"font-weight: bold; font-size: 17px; text-align: left;\">26</td>\n",
    "      <td style=\"font-weight: bold; font-size: 17px; text-align: left;\">NEWSOSites</td>\n",
    "      <td style=\"font-size: 17px; text-align: left;\">Danh sách các trang Stack Overflow mà người được khảo sát từng truy cập.</td>\n",
    "    </tr>\n",
    "    <tr>\n",
    "      <td style=\"font-weight: bold; font-size: 17px; text-align: left;\">27</td>\n",
    "      <td style=\"font-weight: bold; font-size: 17px; text-align: left;\">SOVisitFreq</td>\n",
    "      <td style=\"font-size: 17px; text-align: left;\">Tần suất người được khảo sát truy cập trang Stack Overflow.</td>\n",
    "    </tr>\n",
    "    <tr>\n",
    "      <td style=\"font-weight: bold; font-size: 17px; text-align: left;\">28</td>\n",
    "      <td style=\"font-weight: bold; font-size: 17px; text-align: left;\">SOAccount</td>\n",
    "      <td style=\"font-size: 17px; text-align: left;\">Đối tượng được khảo sát cho biết họ có tài khoản Stack Overflow hay không.</td>\n",
    "    </tr>\n",
    "    <tr>\n",
    "      <td style=\"font-weight: bold; font-size: 17px; text-align: left;\">29</td>\n",
    "      <td style=\"font-weight: bold; font-size: 17px; text-align: left;\">SOPartFreq</td>\n",
    "      <td style=\"font-size: 17px; text-align: left;\">Tần suất tham gia Q&A trên Stack Overflow (bao gồm hỏi, trả lời, vote hoặc nhận xét về các câu hỏi).</td>\n",
    "    </tr>\n",
    "    <tr>\n",
    "      <td style=\"font-weight: bold; font-size: 17px; text-align: left;\">30</td>\n",
    "      <td style=\"font-weight: bold; font-size: 17px; text-align: left;\">SOComm</td>\n",
    "      <td style=\"font-size: 17px; text-align: left;\">Nhận định của đối tượng được khảo sát có xem mình là thành viên của cộng đồng Stack Overflow.</td>\n",
    "    </tr>\n",
    "    <tr>\n",
    "      <td style=\"font-weight: bold; font-size: 17px; text-align: left;\">31</td>\n",
    "      <td style=\"font-weight: bold; font-size: 17px; text-align: left;\">Age</td>\n",
    "      <td style=\"font-size: 17px; text-align: left;\">Độ tuổi của đối tượng được khảo sát.</td>\n",
    "    </tr>\n",
    "    <tr>\n",
    "      <td style=\"font-weight: bold; font-size: 17px; text-align: left;\">32</td>\n",
    "      <td style=\"font-weight: bold; font-size: 17px; text-align: left;\">SurveyLength</td>\n",
    "      <td style=\"font-size: 17px; text-align: left;\">Ý kiến của đối tượng được khảo sát về độ dài bản khảo sát đang thực hiện ở năm tương ứng. </td> \n",
    "    </tr>\n",
    "    <tr>\n",
    "      <td style=\"font-weight: bold; font-size: 17px; text-align: left;\">33</td>\n",
    "      <td style=\"font-weight: bold; font-size: 17px; text-align: left;\">SurveyEase</td>\n",
    "      <td style=\"font-size: 17px; text-align: left;\">Mức độ khó dễ theo ý kiến của đối tượng được khảo sát để có thể hoàn thành bản khảo sát này.</td>\n",
    "    </tr>\n",
    "    <tr>\n",
    "      <td style=\"font-weight: bold; font-size: 17px; text-align: left;\">34</td>\n",
    "      <td style=\"font-weight: bold; font-size: 17px; text-align: left;\">ConvertedCompYearly</td>\n",
    "      <td style=\"font-size: 17px; text-align: left;\">Tổng thu nhập sau khi được chuyển đổi, tính theo năm.</td>\n",
    "    </tr>\n",
    "    <tr>\n",
    "      <td style=\"font-weight: bold; font-size: 17px; text-align: left;\">35*</td>\n",
    "      <td style=\"font-weight: bold; font-size: 17px; text-align: left;\">Year</td>\n",
    "      <td style=\"font-size: 17px; text-align: left;\">Năm ghi nhận kết quả trả lời các câu hỏi khảo sát. </td>\n",
    "    </tr>\n",
    "  </tbody>\n",
    "</table>"
   ]
  },
  {
   "cell_type": "markdown",
   "metadata": {},
   "source": [
    "<a id=\"15\"></a>\n",
    "\n",
    "#### **<font color = #E7B10A>🔍Kiểu dữ liệu từng cột</font>**"
   ]
  },
  {
   "cell_type": "code",
   "execution_count": 78,
   "metadata": {},
   "outputs": [
    {
     "data": {
      "text/plain": [
       "ResponseId                        int64\n",
       "MainBranch                       object\n",
       "Employment                       object\n",
       "Country                          object\n",
       "EdLevel                          object\n",
       "LearnCode                        object\n",
       "YearsCode                        object\n",
       "YearsCodePro                     object\n",
       "DevType                          object\n",
       "OrgSize                          object\n",
       "Currency                         object\n",
       "CompTotal                       float64\n",
       "LanguageHaveWorkedWith           object\n",
       "LanguageWantToWorkWith           object\n",
       "DatabaseHaveWorkedWith           object\n",
       "DatabaseWantToWorkWith           object\n",
       "PlatformHaveWorkedWith           object\n",
       "PlatformWantToWorkWith           object\n",
       "WebframeHaveWorkedWith           object\n",
       "WebframeWantToWorkWith           object\n",
       "MiscTechHaveWorkedWith           object\n",
       "MiscTechWantToWorkWith           object\n",
       "ToolsTechHaveWorkedWith          object\n",
       "ToolsTechWantToWorkWith          object\n",
       "NEWCollabToolsHaveWorkedWith     object\n",
       "NEWCollabToolsWantToWorkWith     object\n",
       "NEWSOSites                       object\n",
       "SOVisitFreq                      object\n",
       "SOAccount                        object\n",
       "SOPartFreq                       object\n",
       "SOComm                           object\n",
       "Age                              object\n",
       "SurveyLength                     object\n",
       "SurveyEase                       object\n",
       "ConvertedCompYearly             float64\n",
       "Year                              int64\n",
       "RemoteWork                       object\n",
       "dtype: object"
      ]
     },
     "execution_count": 78,
     "metadata": {},
     "output_type": "execute_result"
    }
   ],
   "source": [
    "df_new.dtypes"
   ]
  },
  {
   "cell_type": "markdown",
   "metadata": {},
   "source": [
    "<h5><font color = #E7B10A>- Tìm hiểu về các cột có kiểu dữ liệu là object</font></h5>"
   ]
  },
  {
   "cell_type": "code",
   "execution_count": 79,
   "metadata": {},
   "outputs": [
    {
     "data": {
      "text/plain": [
       "MainBranch                                       {<class 'str'>}\n",
       "Employment                      {<class 'float'>, <class 'str'>}\n",
       "Country                         {<class 'float'>, <class 'str'>}\n",
       "EdLevel                         {<class 'float'>, <class 'str'>}\n",
       "LearnCode                       {<class 'float'>, <class 'str'>}\n",
       "YearsCode                       {<class 'float'>, <class 'str'>}\n",
       "YearsCodePro                    {<class 'float'>, <class 'str'>}\n",
       "DevType                         {<class 'float'>, <class 'str'>}\n",
       "OrgSize                         {<class 'float'>, <class 'str'>}\n",
       "Currency                        {<class 'float'>, <class 'str'>}\n",
       "LanguageHaveWorkedWith          {<class 'float'>, <class 'str'>}\n",
       "LanguageWantToWorkWith          {<class 'float'>, <class 'str'>}\n",
       "DatabaseHaveWorkedWith          {<class 'float'>, <class 'str'>}\n",
       "DatabaseWantToWorkWith          {<class 'float'>, <class 'str'>}\n",
       "PlatformHaveWorkedWith          {<class 'float'>, <class 'str'>}\n",
       "PlatformWantToWorkWith          {<class 'float'>, <class 'str'>}\n",
       "WebframeHaveWorkedWith          {<class 'float'>, <class 'str'>}\n",
       "WebframeWantToWorkWith          {<class 'float'>, <class 'str'>}\n",
       "MiscTechHaveWorkedWith          {<class 'float'>, <class 'str'>}\n",
       "MiscTechWantToWorkWith          {<class 'float'>, <class 'str'>}\n",
       "ToolsTechHaveWorkedWith         {<class 'float'>, <class 'str'>}\n",
       "ToolsTechWantToWorkWith         {<class 'float'>, <class 'str'>}\n",
       "NEWCollabToolsHaveWorkedWith    {<class 'float'>, <class 'str'>}\n",
       "NEWCollabToolsWantToWorkWith    {<class 'float'>, <class 'str'>}\n",
       "NEWSOSites                      {<class 'float'>, <class 'str'>}\n",
       "SOVisitFreq                     {<class 'float'>, <class 'str'>}\n",
       "SOAccount                       {<class 'float'>, <class 'str'>}\n",
       "SOPartFreq                      {<class 'float'>, <class 'str'>}\n",
       "SOComm                          {<class 'float'>, <class 'str'>}\n",
       "Age                             {<class 'float'>, <class 'str'>}\n",
       "SurveyLength                    {<class 'float'>, <class 'str'>}\n",
       "SurveyEase                      {<class 'float'>, <class 'str'>}\n",
       "RemoteWork                      {<class 'float'>, <class 'str'>}\n",
       "dtype: object"
      ]
     },
     "execution_count": 79,
     "metadata": {},
     "output_type": "execute_result"
    }
   ],
   "source": [
    "def open_object_dtype(s):\n",
    "    dtypes = set()\n",
    "    dtypes.update(s.apply(type))\n",
    "    return dtypes\n",
    "\n",
    "df_new[df_new.dtypes.index[df_new.dtypes == object]].apply(open_object_dtype)"
   ]
  },
  {
   "cell_type": "code",
   "execution_count": 80,
   "metadata": {},
   "outputs": [],
   "source": [
    "# def get_unique_values(column):\n",
    "#     return list(column.unique())\n",
    "\n",
    "# print(df_new[df_new.dtypes.index[df_new.dtypes == object]].apply(get_unique_values))"
   ]
  },
  {
   "cell_type": "markdown",
   "metadata": {},
   "source": [
    "<h5><font color = #E7B10A>- Tìm các cột có giá trị là nhiều dữ liệu</font></h5>"
   ]
  },
  {
   "cell_type": "code",
   "execution_count": 81,
   "metadata": {},
   "outputs": [
    {
     "data": {
      "text/plain": [
       "MainBranch                      False\n",
       "Employment                       True\n",
       "Country                         False\n",
       "EdLevel                         False\n",
       "LearnCode                        True\n",
       "YearsCode                       False\n",
       "YearsCodePro                    False\n",
       "DevType                          True\n",
       "OrgSize                         False\n",
       "Currency                        False\n",
       "LanguageHaveWorkedWith           True\n",
       "LanguageWantToWorkWith           True\n",
       "DatabaseHaveWorkedWith           True\n",
       "DatabaseWantToWorkWith           True\n",
       "PlatformHaveWorkedWith           True\n",
       "PlatformWantToWorkWith           True\n",
       "WebframeHaveWorkedWith           True\n",
       "WebframeWantToWorkWith           True\n",
       "MiscTechHaveWorkedWith           True\n",
       "MiscTechWantToWorkWith           True\n",
       "ToolsTechHaveWorkedWith          True\n",
       "ToolsTechWantToWorkWith          True\n",
       "NEWCollabToolsHaveWorkedWith     True\n",
       "NEWCollabToolsWantToWorkWith     True\n",
       "NEWSOSites                       True\n",
       "SOVisitFreq                     False\n",
       "SOAccount                       False\n",
       "SOPartFreq                      False\n",
       "SOComm                          False\n",
       "Age                             False\n",
       "SurveyLength                    False\n",
       "SurveyEase                      False\n",
       "RemoteWork                      False\n",
       "dtype: bool"
      ]
     },
     "execution_count": 81,
     "metadata": {},
     "output_type": "execute_result"
    }
   ],
   "source": [
    "def is_multiple(column):\n",
    "    return column.str.contains(';').any()\n",
    "\n",
    "df_new[df_new.dtypes.index[df_new.dtypes == object]].apply(is_multiple)\n"
   ]
  },
  {
   "cell_type": "markdown",
   "metadata": {},
   "source": [
    "**Nhận xét:** \n",
    "\n",
    "- Có thể thấy, với các cột `numerical`, kiểu dữ liệu là `float` hoặc `int` đúng như dự tính\n",
    "\n",
    "- Với các cột có kiểu dữ liệu `Object`, do trong bộ dữ liệu có `NA` (người tham gia không trả lời), nên đa số sẽ có 2 kiểu con là `float` và `str`. \n",
    "\n",
    "- Tuy vậy, với các cột `Employment`, `LearnCode`, `DevType`, `LanguageHaveWorkedWith`, `LanguageWantToWorkWith`, `DatabaseHaveWorkedWith`, `DatabaseWantToWorkWith`, `PlatformHaveWorkedWith`, `PlatformWantToWorkWith`, `WebframeHaveWorkedWith`, `WebframeWantToWorkWith`, `MiscTechHaveWorkedWith`, `MiscTechWantToWorkWith`, `ToolsTechHaveWorkedWith`, `ToolsTechWantToWorkWith`, `NEWCollabToolsHaveWorkedWith`, `NEWCollabToolsWantToWorkWith`, `NEWSOSites` là dạng multiple choice, vì vậy tùy theo mục đích mà có cách xử lý dữ liệu khác nhau."
   ]
  },
  {
   "cell_type": "markdown",
   "metadata": {},
   "source": [
    "<a id=\"16\"></a>\n",
    "\n",
    "#### **<font color = #E7B10A>🔍Xóa các cột không có ý nghĩa</font>**"
   ]
  },
  {
   "cell_type": "markdown",
   "metadata": {},
   "source": [
    "Sau khi hợp nhất 3 bộ dữ liệu, có một số cột mất đi ý nghĩa của nó: cụ thể là cột `ResponseId`, cột `CompTotal` (do các năm 2021, 2022, thu nhập người tham gia được chọn tính theo tuần/tháng/năm, nhưng năm 2023 thì chỉ được tính theo năm) "
   ]
  },
  {
   "cell_type": "code",
   "execution_count": null,
   "metadata": {},
   "outputs": [],
   "source": [
    "df_new=df_new.drop(['ResponseId','CompTotal'],axis=1)\n"
   ]
  },
  {
   "cell_type": "markdown",
   "metadata": {},
   "source": [
    "<a id=\"16\"></a>\n",
    "\n",
    "#### **<font color = #E7B10A>🔍Phân bổ dữ liệu</font>**"
   ]
  },
  {
   "cell_type": "markdown",
   "metadata": {},
   "source": [
    "<h5><font color = #E7B10A>- Các cột kiểu số </font></h5>"
   ]
  },
  {
   "cell_type": "markdown",
   "metadata": {},
   "source": [
    "<b>Nhận xét 1:</b> Với các cột kiểu số: ta có  cột `ConvertedCompYearly` và `Year`. Ta sẽ xem sự phân bố của giá trị, cũng như tính max, min và phần trăm mất mát. Do cột year là cột được thêm vào, ta chỉ xem sự phân bổ để xem số lượng dữ liệu mỗi năm."
   ]
  },
  {
   "cell_type": "code",
   "execution_count": 84,
   "metadata": {},
   "outputs": [
    {
     "name": "stdout",
     "output_type": "stream",
     "text": [
      "                    ConvertedCompYearly    Year\n",
      "Missing percentage         4.593783e+01     0.0\n",
      "Min                        1.000000e+00  2021.0\n",
      "Max                        7.435143e+07  2023.0\n"
     ]
    }
   ],
   "source": [
    "num_cols = [ \"ConvertedCompYearly\", \"Year\"]\n",
    "\n",
    "missing_percentages = np.sum(df_new[num_cols].isna(), axis=0) / df_new.shape[0] * 100\n",
    "mins = df_new[num_cols].quantile(0, numeric_only=False)\n",
    "maxs = df_new[num_cols].quantile(1, numeric_only=False)\n",
    "\n",
    "\n",
    "mins = mins.astype(float)\n",
    "maxs = maxs.astype(float)\n",
    "# Create DataFrame\n",
    "info = pd.DataFrame({\"Missing percentage\": missing_percentages, \"Min\": mins, \"Max\": maxs})\n",
    "\n",
    "\n",
    "info = info.transpose()\n",
    "\n",
    "print(info)"
   ]
  },
  {
   "cell_type": "markdown",
   "metadata": {},
   "source": [
    "<p><b>Nhận xét 2:</b> Có thể thấy, thu nhập theo năm có hiệu giữa max và min khá lớn, vì vậy việc vẽ biểu đồ là khá khó, ở đây, em sẽ xem qua các giá trị quantile và vẽ biểu đồ histogram dạng log-scale</p>"
   ]
  },
  {
   "cell_type": "code",
   "execution_count": 85,
   "metadata": {},
   "outputs": [
    {
     "data": {
      "text/plain": [
       "[1.0, 35028.0, 66130.0, 114115.0, 74351432.0]"
      ]
     },
     "execution_count": 85,
     "metadata": {},
     "output_type": "execute_result"
    }
   ],
   "source": [
    "quantile_value = [df_new[\"ConvertedCompYearly\"].quantile(0), df_new[\"ConvertedCompYearly\"].quantile(0.25),df_new[\"ConvertedCompYearly\"].quantile(0.5),df_new[\"ConvertedCompYearly\"].quantile(0.75), df_new[\"ConvertedCompYearly\"].quantile(1)]\n",
    "quantile_value\n"
   ]
  },
  {
   "cell_type": "code",
   "execution_count": 87,
   "metadata": {},
   "outputs": [
    {
     "name": "stdout",
     "output_type": "stream",
     "text": [
      "18\n"
     ]
    },
    {
     "data": {
      "image/png": "[encoded data removed]",
      "text/plain": [
       "<Figure size 640x480 with 1 Axes>"
      ]
     },
     "metadata": {},
     "output_type": "display_data"
    }
   ],
   "source": [
    "bin_size=int(1+np.log2(df_new.shape[0]))\n",
    "print(bin_size)\n",
    "hist=plt.hist(df_new[\"ConvertedCompYearly\"], bins=bin_size, edgecolor='black', log=True)\n",
    "\n",
    "\n",
    "\n",
    "plt.title('Log-Scale Histogram')\n",
    "plt.xlabel('Thu nhập (log-scale)')\n",
    "plt.ylabel('Số lượng người');\n"
   ]
  },
  {
   "cell_type": "markdown",
   "metadata": {},
   "source": [
    "<p><b>Nhận xét 3:</b> Như vậy, ta thấy được đa số có mức lương từ 0 dến 1x10^7, Các mức khác có số lượng ít (khoảng dưới 100 người)</p>"
   ]
  },
  {
   "cell_type": "markdown",
   "metadata": {},
   "source": [
    "<h5><font color = #E7B10A>- Các cột danh mục </font></h5>"
   ]
  },
  {
   "cell_type": "markdown",
   "metadata": {},
   "source": [
    "Bước 1: Để phân tích phân bổ dữ liệu ở các cột danh mục, ta sẽ tạo dataframe `object_col_df` từ tất cả các cột `object` của `df_new`."
   ]
  },
  {
   "cell_type": "code",
   "execution_count": null,
   "metadata": {},
   "outputs": [],
   "source": [
    "object_col_df = df_new.select_dtypes(include='object')"
   ]
  },
  {
   "cell_type": "markdown",
   "metadata": {},
   "source": [
    "Bước 2: Xây dựng 3 hàm `missing_ratio`, `num_values`, và `value_ratios` để tiến hành thống kê tỉ lệ khuyết dữ liệu, số các giá trị khác nhau, và đại diện 3 giá trị thống kê có lượt chọn cao nhất. "
   ]
  },
  {
   "cell_type": "code",
   "execution_count": null,
   "metadata": {},
   "outputs": [],
   "source": [
    "def missing_ratio(s):\n",
    "    return (s.isna().mean() * 100).round(1)\n",
    "\n",
    "def num_values(s):\n",
    "    s = s.str.split(';')\n",
    "    s = s.explode()\n",
    "    return len(s.value_counts())\n",
    "\n",
    "def value_ratios(s):\n",
    "    s = s.str.split(';')\n",
    "    s = s.explode()\n",
    "    totalCount = (~s.isna()).sum()\n",
    "    return dict(list(((s.value_counts()/totalCount*100).round(1)).to_dict().items())[0: 3]) "
   ]
  },
  {
   "cell_type": "code",
   "execution_count": null,
   "metadata": {},
   "outputs": [
    {
     "data": {
      "text/html": [
       "<div>\n",
       "<style scoped>\n",
       "    .dataframe tbody tr th:only-of-type {\n",
       "        vertical-align: middle;\n",
       "    }\n",
       "\n",
       "    .dataframe tbody tr th {\n",
       "        vertical-align: top;\n",
       "    }\n",
       "\n",
       "    .dataframe thead th {\n",
       "        text-align: right;\n",
       "    }\n",
       "</style>\n",
       "<table border=\"1\" class=\"dataframe\">\n",
       "  <thead>\n",
       "    <tr style=\"text-align: right;\">\n",
       "      <th></th>\n",
       "      <th>MainBranch</th>\n",
       "      <th>Employment</th>\n",
       "      <th>Country</th>\n",
       "      <th>EdLevel</th>\n",
       "      <th>LearnCode</th>\n",
       "      <th>YearsCode</th>\n",
       "      <th>YearsCodePro</th>\n",
       "      <th>DevType</th>\n",
       "      <th>OrgSize</th>\n",
       "      <th>Currency</th>\n",
       "      <th>LanguageHaveWorkedWith</th>\n",
       "      <th>LanguageWantToWorkWith</th>\n",
       "      <th>DatabaseHaveWorkedWith</th>\n",
       "      <th>DatabaseWantToWorkWith</th>\n",
       "      <th>PlatformHaveWorkedWith</th>\n",
       "      <th>PlatformWantToWorkWith</th>\n",
       "      <th>WebframeHaveWorkedWith</th>\n",
       "      <th>WebframeWantToWorkWith</th>\n",
       "      <th>MiscTechHaveWorkedWith</th>\n",
       "      <th>MiscTechWantToWorkWith</th>\n",
       "      <th>ToolsTechHaveWorkedWith</th>\n",
       "      <th>ToolsTechWantToWorkWith</th>\n",
       "      <th>NEWCollabToolsHaveWorkedWith</th>\n",
       "      <th>NEWCollabToolsWantToWorkWith</th>\n",
       "      <th>NEWSOSites</th>\n",
       "      <th>SOVisitFreq</th>\n",
       "      <th>SOAccount</th>\n",
       "      <th>SOPartFreq</th>\n",
       "      <th>SOComm</th>\n",
       "      <th>Age</th>\n",
       "      <th>SurveyLength</th>\n",
       "      <th>SurveyEase</th>\n",
       "      <th>RemoteWork</th>\n",
       "    </tr>\n",
       "  </thead>\n",
       "  <tbody>\n",
       "    <tr>\n",
       "      <th>missing_ratio</th>\n",
       "      <td>0.0</td>\n",
       "      <td>1.2</td>\n",
       "      <td>1.1</td>\n",
       "      <td>1.3</td>\n",
       "      <td>1.5</td>\n",
       "      <td>2.2</td>\n",
       "      <td>27.1</td>\n",
       "      <td>16.8</td>\n",
       "      <td>28.1</td>\n",
       "      <td>27.7</td>\n",
       "      <td>2.2</td>\n",
       "      <td>8.7</td>\n",
       "      <td>17.4</td>\n",
       "      <td>30.8</td>\n",
       "      <td>32.6</td>\n",
       "      <td>45.8</td>\n",
       "      <td>25.9</td>\n",
       "      <td>37.0</td>\n",
       "      <td>39.4</td>\n",
       "      <td>50.5</td>\n",
       "      <td>16.8</td>\n",
       "      <td>26.7</td>\n",
       "      <td>3.4</td>\n",
       "      <td>13.1</td>\n",
       "      <td>1.4</td>\n",
       "      <td>2.2</td>\n",
       "      <td>1.6</td>\n",
       "      <td>22.0</td>\n",
       "      <td>1.8</td>\n",
       "      <td>1.4</td>\n",
       "      <td>2.9</td>\n",
       "      <td>2.8</td>\n",
       "      <td>12.1</td>\n",
       "    </tr>\n",
       "    <tr>\n",
       "      <th>num_values</th>\n",
       "      <td>8</td>\n",
       "      <td>11</td>\n",
       "      <td>192</td>\n",
       "      <td>10</td>\n",
       "      <td>13</td>\n",
       "      <td>52</td>\n",
       "      <td>52</td>\n",
       "      <td>33</td>\n",
       "      <td>10</td>\n",
       "      <td>157</td>\n",
       "      <td>56</td>\n",
       "      <td>56</td>\n",
       "      <td>36</td>\n",
       "      <td>36</td>\n",
       "      <td>29</td>\n",
       "      <td>29</td>\n",
       "      <td>38</td>\n",
       "      <td>38</td>\n",
       "      <td>41</td>\n",
       "      <td>41</td>\n",
       "      <td>59</td>\n",
       "      <td>59</td>\n",
       "      <td>46</td>\n",
       "      <td>46</td>\n",
       "      <td>5</td>\n",
       "      <td>5</td>\n",
       "      <td>3</td>\n",
       "      <td>6</td>\n",
       "      <td>6</td>\n",
       "      <td>8</td>\n",
       "      <td>3</td>\n",
       "      <td>3</td>\n",
       "      <td>6</td>\n",
       "    </tr>\n",
       "    <tr>\n",
       "      <th>value_ratios</th>\n",
       "      <td>{'I am a developer by profession': 72.8, 'I code primarily as a hobby': 6.0, 'I am not primarily a developer, but I write code sometimes as part of my work': 5.0}</td>\n",
       "      <td>{'Employed, full-time': 40.8, 'Employed full-time': 19.9, 'Student, full-time': 12.8}</td>\n",
       "      <td>{'United States of America': 19.5, 'India': 9.4, 'Germany': 7.5}</td>\n",
       "      <td>{'Bachelor’s degree (B.A., B.S., B.Eng., etc.)': 42.2, 'Master’s degree (M.A., M.S., M.Eng., MBA, etc.)': 22.1, 'Some college/university study without earning a degree': 13.0}</td>\n",
       "      <td>{'Books / Physical media': 16.5, 'Other online resources (e.g., videos, blogs, forum)': 15.7, 'Online Courses or Certification': 14.3}</td>\n",
       "      <td>{'10': 7.4, '5': 7.0, '6': 6.3}</td>\n",
       "      <td>{'3': 8.1, '5': 7.8, '2': 7.7}</td>\n",
       "      <td>{'Developer, full-stack': 21.0, 'Developer, back-end': 16.7, 'Developer, front-end': 9.4}</td>\n",
       "      <td>{'20 to 99 employees': 20.5, '100 to 499 employees': 18.1, '10,000 or more employees': 12.9}</td>\n",
       "      <td>{'EUR European Euro': 24.9, 'USD\tUnited States dollar': 24.4, 'INR\tIndian rupee': 8.0}</td>\n",
       "      <td>{'JavaScript': 12.2, 'HTML/CSS': 10.3, 'Python': 9.2}</td>\n",
       "      <td>{'JavaScript': 9.9, 'Python': 9.5, 'TypeScript': 8.2}</td>\n",
       "      <td>{'MySQL': 16.4, 'PostgreSQL': 15.5, 'SQLite': 11.3}</td>\n",
       "      <td>{'PostgreSQL': 17.5, 'MySQL': 11.4, 'MongoDB': 11.3}</td>\n",
       "      <td>{'AWS': 16.6, 'Microsoft Azure': 14.8, 'Amazon Web Services (AWS)': 10.2}</td>\n",
       "      <td>{'AWS': 17.9, 'Microsoft Azure': 15.2, 'Google Cloud': 9.8}</td>\n",
       "      <td>{'Node.js': 9.9, 'jQuery': 9.3, 'React.js': 8.5}</td>\n",
       "      <td>{'React.js': 9.7, 'Node.js': 9.0, 'Vue.js': 8.3}</td>\n",
       "      <td>{'NumPy': 11.7, 'Pandas': 10.3, 'TensorFlow': 5.5}</td>\n",
       "      <td>{'NumPy': 9.6, 'TensorFlow': 8.6, 'Pandas': 8.5}</td>\n",
       "      <td>{'Docker': 16.8, 'npm': 11.3, 'Git': 10.2}</td>\n",
       "      <td>{'Docker': 18.4, 'Kubernetes': 10.3, 'Git': 10.0}</td>\n",
       "      <td>{'Visual Studio Code': 21.0, 'Visual Studio': 8.9, 'Notepad++': 7.8}</td>\n",
       "      <td>{'Visual Studio Code': 24.4, 'Visual Studio': 8.2, 'Vim': 7.3}</td>\n",
       "      <td>{'Stack Overflow': 55.0, 'Stack Exchange': 38.4, 'Collectives on Stack Overflow': 3.2}</td>\n",
       "      <td>{'A few times per week': 29.2, 'Daily or almost daily': 28.7, 'Multiple times per day': 19.7}</td>\n",
       "      <td>{'Yes': 79.6, 'No': 14.1, 'Not sure/can't remember': 6.3}</td>\n",
       "      <td>{'Less than once per month or monthly': 48.1, 'I have never participated in Q&amp;A on Stack Overflow': 23.3, 'A few times per month or weekly': 17.0}</td>\n",
       "      <td>{'No, not really': 28.4, 'Yes, somewhat': 25.8, 'Neutral': 21.1}</td>\n",
       "      <td>{'25-34 years old': 38.7, '18-24 years old': 22.9, '35-44 years old': 20.5}</td>\n",
       "      <td>{'Appropriate in length': 77.3, 'Too long': 19.4, 'Too short': 3.4}</td>\n",
       "      <td>{'Easy': 69.1, 'Neither easy nor difficult': 29.6, 'Difficult': 1.3}</td>\n",
       "      <td>{'Unknow': 38.6, 'Hybrid (some remote, some in-person)': 26.0, 'Remote': 14.1}</td>\n",
       "    </tr>\n",
       "  </tbody>\n",
       "</table>\n",
       "</div>"
      ],
      "text/plain": [
       "                                                                                                                                                                       MainBranch  \\\n",
       "missing_ratio                                                                                                                                                                 0.0   \n",
       "num_values                                                                                                                                                                      8   \n",
       "value_ratios   {'I am a developer by profession': 72.8, 'I code primarily as a hobby': 6.0, 'I am not primarily a developer, but I write code sometimes as part of my work': 5.0}   \n",
       "\n",
       "                                                                                          Employment  \\\n",
       "missing_ratio                                                                                    1.2   \n",
       "num_values                                                                                        11   \n",
       "value_ratios   {'Employed, full-time': 40.8, 'Employed full-time': 19.9, 'Student, full-time': 12.8}   \n",
       "\n",
       "                                                                        Country  \\\n",
       "missing_ratio                                                               1.1   \n",
       "num_values                                                                  192   \n",
       "value_ratios   {'United States of America': 19.5, 'India': 9.4, 'Germany': 7.5}   \n",
       "\n",
       "                                                                                                                                                                                       EdLevel  \\\n",
       "missing_ratio                                                                                                                                                                              1.3   \n",
       "num_values                                                                                                                                                                                  10   \n",
       "value_ratios   {'Bachelor’s degree (B.A., B.S., B.Eng., etc.)': 42.2, 'Master’s degree (M.A., M.S., M.Eng., MBA, etc.)': 22.1, 'Some college/university study without earning a degree': 13.0}   \n",
       "\n",
       "                                                                                                                                            LearnCode  \\\n",
       "missing_ratio                                                                                                                                     1.5   \n",
       "num_values                                                                                                                                         13   \n",
       "value_ratios   {'Books / Physical media': 16.5, 'Other online resources (e.g., videos, blogs, forum)': 15.7, 'Online Courses or Certification': 14.3}   \n",
       "\n",
       "                                     YearsCode  \\\n",
       "missing_ratio                              2.2   \n",
       "num_values                                  52   \n",
       "value_ratios   {'10': 7.4, '5': 7.0, '6': 6.3}   \n",
       "\n",
       "                                 YearsCodePro  \\\n",
       "missing_ratio                            27.1   \n",
       "num_values                                 52   \n",
       "value_ratios   {'3': 8.1, '5': 7.8, '2': 7.7}   \n",
       "\n",
       "                                                                                                 DevType  \\\n",
       "missing_ratio                                                                                       16.8   \n",
       "num_values                                                                                            33   \n",
       "value_ratios   {'Developer, full-stack': 21.0, 'Developer, back-end': 16.7, 'Developer, front-end': 9.4}   \n",
       "\n",
       "                                                                                                    OrgSize  \\\n",
       "missing_ratio                                                                                          28.1   \n",
       "num_values                                                                                               10   \n",
       "value_ratios   {'20 to 99 employees': 20.5, '100 to 499 employees': 18.1, '10,000 or more employees': 12.9}   \n",
       "\n",
       "                                                                                             Currency  \\\n",
       "missing_ratio                                                                                    27.7   \n",
       "num_values                                                                                        157   \n",
       "value_ratios   {'EUR European Euro': 24.9, 'USD\tUnited States dollar': 24.4, 'INR\tIndian rupee': 8.0}   \n",
       "\n",
       "                                              LanguageHaveWorkedWith  \\\n",
       "missing_ratio                                                    2.2   \n",
       "num_values                                                        56   \n",
       "value_ratios   {'JavaScript': 12.2, 'HTML/CSS': 10.3, 'Python': 9.2}   \n",
       "\n",
       "                                              LanguageWantToWorkWith  \\\n",
       "missing_ratio                                                    8.7   \n",
       "num_values                                                        56   \n",
       "value_ratios   {'JavaScript': 9.9, 'Python': 9.5, 'TypeScript': 8.2}   \n",
       "\n",
       "                                            DatabaseHaveWorkedWith  \\\n",
       "missing_ratio                                                 17.4   \n",
       "num_values                                                      36   \n",
       "value_ratios   {'MySQL': 16.4, 'PostgreSQL': 15.5, 'SQLite': 11.3}   \n",
       "\n",
       "                                             DatabaseWantToWorkWith  \\\n",
       "missing_ratio                                                  30.8   \n",
       "num_values                                                       36   \n",
       "value_ratios   {'PostgreSQL': 17.5, 'MySQL': 11.4, 'MongoDB': 11.3}   \n",
       "\n",
       "                                                                  PlatformHaveWorkedWith  \\\n",
       "missing_ratio                                                                       32.6   \n",
       "num_values                                                                            29   \n",
       "value_ratios   {'AWS': 16.6, 'Microsoft Azure': 14.8, 'Amazon Web Services (AWS)': 10.2}   \n",
       "\n",
       "                                                    PlatformWantToWorkWith  \\\n",
       "missing_ratio                                                         45.8   \n",
       "num_values                                                              29   \n",
       "value_ratios   {'AWS': 17.9, 'Microsoft Azure': 15.2, 'Google Cloud': 9.8}   \n",
       "\n",
       "                                         WebframeHaveWorkedWith  \\\n",
       "missing_ratio                                              25.9   \n",
       "num_values                                                   38   \n",
       "value_ratios   {'Node.js': 9.9, 'jQuery': 9.3, 'React.js': 8.5}   \n",
       "\n",
       "                                         WebframeWantToWorkWith  \\\n",
       "missing_ratio                                              37.0   \n",
       "num_values                                                   38   \n",
       "value_ratios   {'React.js': 9.7, 'Node.js': 9.0, 'Vue.js': 8.3}   \n",
       "\n",
       "                                           MiscTechHaveWorkedWith  \\\n",
       "missing_ratio                                                39.4   \n",
       "num_values                                                     41   \n",
       "value_ratios   {'NumPy': 11.7, 'Pandas': 10.3, 'TensorFlow': 5.5}   \n",
       "\n",
       "                                         MiscTechWantToWorkWith  \\\n",
       "missing_ratio                                              50.5   \n",
       "num_values                                                   41   \n",
       "value_ratios   {'NumPy': 9.6, 'TensorFlow': 8.6, 'Pandas': 8.5}   \n",
       "\n",
       "                                  ToolsTechHaveWorkedWith  \\\n",
       "missing_ratio                                        16.8   \n",
       "num_values                                             59   \n",
       "value_ratios   {'Docker': 16.8, 'npm': 11.3, 'Git': 10.2}   \n",
       "\n",
       "                                         ToolsTechWantToWorkWith  \\\n",
       "missing_ratio                                               26.7   \n",
       "num_values                                                    59   \n",
       "value_ratios   {'Docker': 18.4, 'Kubernetes': 10.3, 'Git': 10.0}   \n",
       "\n",
       "                                                       NEWCollabToolsHaveWorkedWith  \\\n",
       "missing_ratio                                                                   3.4   \n",
       "num_values                                                                       46   \n",
       "value_ratios   {'Visual Studio Code': 21.0, 'Visual Studio': 8.9, 'Notepad++': 7.8}   \n",
       "\n",
       "                                                 NEWCollabToolsWantToWorkWith  \\\n",
       "missing_ratio                                                            13.1   \n",
       "num_values                                                                 46   \n",
       "value_ratios   {'Visual Studio Code': 24.4, 'Visual Studio': 8.2, 'Vim': 7.3}   \n",
       "\n",
       "                                                                                           NEWSOSites  \\\n",
       "missing_ratio                                                                                     1.4   \n",
       "num_values                                                                                          5   \n",
       "value_ratios   {'Stack Overflow': 55.0, 'Stack Exchange': 38.4, 'Collectives on Stack Overflow': 3.2}   \n",
       "\n",
       "                                                                                                 SOVisitFreq  \\\n",
       "missing_ratio                                                                                            2.2   \n",
       "num_values                                                                                                 5   \n",
       "value_ratios   {'A few times per week': 29.2, 'Daily or almost daily': 28.7, 'Multiple times per day': 19.7}   \n",
       "\n",
       "                                                               SOAccount  \\\n",
       "missing_ratio                                                        1.6   \n",
       "num_values                                                             3   \n",
       "value_ratios   {'Yes': 79.6, 'No': 14.1, 'Not sure/can't remember': 6.3}   \n",
       "\n",
       "                                                                                                                                                       SOPartFreq  \\\n",
       "missing_ratio                                                                                                                                                22.0   \n",
       "num_values                                                                                                                                                      6   \n",
       "value_ratios   {'Less than once per month or monthly': 48.1, 'I have never participated in Q&A on Stack Overflow': 23.3, 'A few times per month or weekly': 17.0}   \n",
       "\n",
       "                                                                         SOComm  \\\n",
       "missing_ratio                                                               1.8   \n",
       "num_values                                                                    6   \n",
       "value_ratios   {'No, not really': 28.4, 'Yes, somewhat': 25.8, 'Neutral': 21.1}   \n",
       "\n",
       "                                                                                       Age  \\\n",
       "missing_ratio                                                                          1.4   \n",
       "num_values                                                                               8   \n",
       "value_ratios   {'25-34 years old': 38.7, '18-24 years old': 22.9, '35-44 years old': 20.5}   \n",
       "\n",
       "                                                                      SurveyLength  \\\n",
       "missing_ratio                                                                  2.9   \n",
       "num_values                                                                       3   \n",
       "value_ratios   {'Appropriate in length': 77.3, 'Too long': 19.4, 'Too short': 3.4}   \n",
       "\n",
       "                                                                         SurveyEase  \\\n",
       "missing_ratio                                                                   2.8   \n",
       "num_values                                                                        3   \n",
       "value_ratios   {'Easy': 69.1, 'Neither easy nor difficult': 29.6, 'Difficult': 1.3}   \n",
       "\n",
       "                                                                                   RemoteWork  \n",
       "missing_ratio                                                                            12.1  \n",
       "num_values                                                                                  6  \n",
       "value_ratios   {'Unknow': 38.6, 'Hybrid (some remote, some in-person)': 26.0, 'Remote': 14.1}  "
      ]
     },
     "execution_count": 65,
     "metadata": {},
     "output_type": "execute_result"
    }
   ],
   "source": [
    "object_col_df = object_col_df.agg([missing_ratio, num_values, value_ratios])\n",
    "object_col_df"
   ]
  },
  {
   "cell_type": "markdown",
   "metadata": {},
   "source": [
    "<a id=\"17\"></a>\n",
    "\n",
    "#### **<font color = #E7B10A>🔍Xuất file .csv để thuận tiện cho các bước sau</font>**"
   ]
  },
  {
   "cell_type": "code",
   "execution_count": null,
   "metadata": {},
   "outputs": [],
   "source": [
    "df_new.to_csv(\"./Data/processed_data.csv\", index=False)"
   ]
  }
 ],
 "metadata": {
  "kernelspec": {
   "display_name": "Python 3",
   "language": "python",
   "name": "python3"
  },
  "language_info": {
   "codemirror_mode": {
    "name": "ipython",
    "version": 3
   },
   "file_extension": ".py",
   "mimetype": "text/x-python",
   "name": "python",
   "nbconvert_exporter": "python",
   "pygments_lexer": "ipython3",
   "version": "3.11.4"
  }
 },
 "nbformat": 4,
 "nbformat_minor": 2
}
