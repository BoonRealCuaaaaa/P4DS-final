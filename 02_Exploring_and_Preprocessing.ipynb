{
 "cells": [
  {
   "cell_type": "markdown",
   "metadata": {},
   "source": [
    "<h1><center>Khám phá và tiền xử lý dữ liệu</center></h1>"
   ]
  },
  {
   "cell_type": "markdown",
   "metadata": {},
   "source": [
    "<hr>"
   ]
  },
  {
   "cell_type": "markdown",
   "metadata": {},
   "source": [
    "### 1. Các thư viện sử dụng\n"
   ]
  },
  {
   "cell_type": "code",
   "execution_count": 2,
   "metadata": {},
   "outputs": [],
   "source": [
    "import numpy as np\n",
    "import pandas as pd\n",
    "import matplotlib.pyplot as plt\n",
    "import seaborn as sns\n",
    "pd.set_option('display.max_columns', None)\n",
    "pd.set_option('display.max_rows', None)"
   ]
  },
  {
   "cell_type": "markdown",
   "metadata": {},
   "source": [
    "### 2. Khám phá và tiền xử lý dữ liệu"
   ]
  },
  {
   "cell_type": "markdown",
   "metadata": {},
   "source": [
    "- Trong phần này, nhóm sẽ khám phá các đặc trưng của dữ liệu. Trước hết, nhóm đọc dữ liệu từ `./Data/survey_results_public_2021.csv`, `./Data/survey_results_public_2022.csv`, `./Data/survey_results_public_2023.csv` - là dữ liệu của cuộc khảo sát vào năm 2021, 2022, 2023"
   ]
  },
  {
   "cell_type": "code",
   "execution_count": 3,
   "metadata": {},
   "outputs": [],
   "source": [
    "df_2021 = pd.read_csv('./Data/survey_results_public_2021.csv')\n",
    "df_2022 = pd.read_csv('./Data/survey_results_public_2022.csv')\n",
    "df_2023 = pd.read_csv('./Data/survey_results_public_2023.csv')"
   ]
  },
  {
   "cell_type": "markdown",
   "metadata": {},
   "source": [
    "- Vì nhóm muốn tạo một bộ dữ liệu được kết hợp từ 3 bộ dữ liệu trên, nên trước hết, nhóm sẽ xem qua thông tin của 3 bộ dữ liệu"
   ]
  },
  {
   "cell_type": "code",
   "execution_count": 4,
   "metadata": {},
   "outputs": [
    {
     "name": "stdout",
     "output_type": "stream",
     "text": [
      "Kích thước của bộ dữ liệu năm 2021:  (83439, 48)\n",
      "Kích thước của bộ dữ liệu năm 2022:  (73268, 79)\n",
      "Kích thước của bộ dữ liệu năm 2022:  (89184, 84)\n"
     ]
    }
   ],
   "source": [
    "print(\"Kích thước của bộ dữ liệu năm 2021: \",df_2021.shape)\n",
    "print(\"Kích thước của bộ dữ liệu năm 2022: \",df_2022.shape)\n",
    "print(\"Kích thước của bộ dữ liệu năm 2022: \",df_2023.shape)"
   ]
  },
  {
   "cell_type": "markdown",
   "metadata": {},
   "source": [
    "- Có thể thấy, số lượng cột của 3 bộ dữ liệu là khác nhau, ta hãy xem các cột của từng bộ dữ liệu"
   ]
  },
  {
   "cell_type": "code",
   "execution_count": 5,
   "metadata": {},
   "outputs": [
    {
     "name": "stdout",
     "output_type": "stream",
     "text": [
      "Cột ngẫu nhiên lấy ra từ dữ liệu 2021:  Index(['ResponseId', 'MainBranch', 'Employment', 'Country', 'US_State',\n",
      "       'UK_Country', 'EdLevel', 'Age1stCode', 'LearnCode', 'YearsCode',\n",
      "       'YearsCodePro', 'DevType', 'OrgSize', 'Currency', 'CompTotal',\n",
      "       'CompFreq', 'LanguageHaveWorkedWith', 'LanguageWantToWorkWith',\n",
      "       'DatabaseHaveWorkedWith', 'DatabaseWantToWorkWith',\n",
      "       'PlatformHaveWorkedWith', 'PlatformWantToWorkWith',\n",
      "       'WebframeHaveWorkedWith', 'WebframeWantToWorkWith',\n",
      "       'MiscTechHaveWorkedWith', 'MiscTechWantToWorkWith',\n",
      "       'ToolsTechHaveWorkedWith', 'ToolsTechWantToWorkWith',\n",
      "       'NEWCollabToolsHaveWorkedWith', 'NEWCollabToolsWantToWorkWith', 'OpSys',\n",
      "       'NEWStuck', 'NEWSOSites', 'SOVisitFreq', 'SOAccount', 'SOPartFreq',\n",
      "       'SOComm', 'NEWOtherComms', 'Age', 'Gender', 'Trans', 'Sexuality',\n",
      "       'Ethnicity', 'Accessibility', 'MentalHealth', 'SurveyLength',\n",
      "       'SurveyEase', 'ConvertedCompYearly'],\n",
      "      dtype='object')\n",
      "-------------------------------------------------------------------------------\n",
      "Cột ngẫu nhiên lấy ra từ dữ liệu 2022:  Index(['ResponseId', 'MainBranch', 'Employment', 'RemoteWork',\n",
      "       'CodingActivities', 'EdLevel', 'LearnCode', 'LearnCodeOnline',\n",
      "       'LearnCodeCoursesCert', 'YearsCode', 'YearsCodePro', 'DevType',\n",
      "       'OrgSize', 'PurchaseInfluence', 'BuyNewTool', 'Country', 'Currency',\n",
      "       'CompTotal', 'CompFreq', 'LanguageHaveWorkedWith',\n",
      "       'LanguageWantToWorkWith', 'DatabaseHaveWorkedWith',\n",
      "       'DatabaseWantToWorkWith', 'PlatformHaveWorkedWith',\n",
      "       'PlatformWantToWorkWith', 'WebframeHaveWorkedWith',\n",
      "       'WebframeWantToWorkWith', 'MiscTechHaveWorkedWith',\n",
      "       'MiscTechWantToWorkWith', 'ToolsTechHaveWorkedWith',\n",
      "       'ToolsTechWantToWorkWith', 'NEWCollabToolsHaveWorkedWith',\n",
      "       'NEWCollabToolsWantToWorkWith', 'OpSysProfessional use',\n",
      "       'OpSysPersonal use', 'VersionControlSystem', 'VCInteraction',\n",
      "       'VCHostingPersonal use', 'VCHostingProfessional use',\n",
      "       'OfficeStackAsyncHaveWorkedWith', 'OfficeStackAsyncWantToWorkWith',\n",
      "       'OfficeStackSyncHaveWorkedWith', 'OfficeStackSyncWantToWorkWith',\n",
      "       'Blockchain', 'NEWSOSites', 'SOVisitFreq', 'SOAccount', 'SOPartFreq',\n",
      "       'SOComm', 'Age', 'Gender', 'Trans', 'Sexuality', 'Ethnicity',\n",
      "       'Accessibility', 'MentalHealth', 'TBranch', 'ICorPM', 'WorkExp',\n",
      "       'Knowledge_1', 'Knowledge_2', 'Knowledge_3', 'Knowledge_4',\n",
      "       'Knowledge_5', 'Knowledge_6', 'Knowledge_7', 'Frequency_1',\n",
      "       'Frequency_2', 'Frequency_3', 'TimeSearching', 'TimeAnswering',\n",
      "       'Onboarding', 'ProfessionalTech', 'TrueFalse_1', 'TrueFalse_2',\n",
      "       'TrueFalse_3', 'SurveyLength', 'SurveyEase', 'ConvertedCompYearly'],\n",
      "      dtype='object')\n",
      "-------------------------------------------------------------------------------\n",
      "Cột ngẫu nhiên lấy ra từ dữ liệu 2022:  Index(['ResponseId', 'Q120', 'MainBranch', 'Age', 'Employment', 'RemoteWork',\n",
      "       'CodingActivities', 'EdLevel', 'LearnCode', 'LearnCodeOnline',\n",
      "       'LearnCodeCoursesCert', 'YearsCode', 'YearsCodePro', 'DevType',\n",
      "       'OrgSize', 'PurchaseInfluence', 'TechList', 'BuyNewTool', 'Country',\n",
      "       'Currency', 'CompTotal', 'LanguageHaveWorkedWith',\n",
      "       'LanguageWantToWorkWith', 'DatabaseHaveWorkedWith',\n",
      "       'DatabaseWantToWorkWith', 'PlatformHaveWorkedWith',\n",
      "       'PlatformWantToWorkWith', 'WebframeHaveWorkedWith',\n",
      "       'WebframeWantToWorkWith', 'MiscTechHaveWorkedWith',\n",
      "       'MiscTechWantToWorkWith', 'ToolsTechHaveWorkedWith',\n",
      "       'ToolsTechWantToWorkWith', 'NEWCollabToolsHaveWorkedWith',\n",
      "       'NEWCollabToolsWantToWorkWith', 'OpSysPersonal use',\n",
      "       'OpSysProfessional use', 'OfficeStackAsyncHaveWorkedWith',\n",
      "       'OfficeStackAsyncWantToWorkWith', 'OfficeStackSyncHaveWorkedWith',\n",
      "       'OfficeStackSyncWantToWorkWith', 'AISearchHaveWorkedWith',\n",
      "       'AISearchWantToWorkWith', 'AIDevHaveWorkedWith', 'AIDevWantToWorkWith',\n",
      "       'NEWSOSites', 'SOVisitFreq', 'SOAccount', 'SOPartFreq', 'SOComm',\n",
      "       'SOAI', 'AISelect', 'AISent', 'AIAcc', 'AIBen',\n",
      "       'AIToolInterested in Using', 'AIToolCurrently Using',\n",
      "       'AIToolNot interested in Using', 'AINextVery different',\n",
      "       'AINextNeither different nor similar', 'AINextSomewhat similar',\n",
      "       'AINextVery similar', 'AINextSomewhat different', 'TBranch', 'ICorPM',\n",
      "       'WorkExp', 'Knowledge_1', 'Knowledge_2', 'Knowledge_3', 'Knowledge_4',\n",
      "       'Knowledge_5', 'Knowledge_6', 'Knowledge_7', 'Knowledge_8',\n",
      "       'Frequency_1', 'Frequency_2', 'Frequency_3', 'TimeSearching',\n",
      "       'TimeAnswering', 'ProfessionalTech', 'Industry', 'SurveyLength',\n",
      "       'SurveyEase', 'ConvertedCompYearly'],\n",
      "      dtype='object')\n"
     ]
    }
   ],
   "source": [
    "print(\"Cột ngẫu nhiên lấy ra từ dữ liệu 2021: \",df_2021.columns)\n",
    "print(\"-------------------------------------------------------------------------------\")\n",
    "print(\"Cột ngẫu nhiên lấy ra từ dữ liệu 2022: \",df_2022.columns)\n",
    "print(\"-------------------------------------------------------------------------------\")\n",
    "print(\"Cột ngẫu nhiên lấy ra từ dữ liệu 2022: \",df_2023.columns)\n"
   ]
  },
  {
   "cell_type": "markdown",
   "metadata": {},
   "source": [
    "- Các cột chung là: "
   ]
  },
  {
   "cell_type": "code",
   "execution_count": 6,
   "metadata": {},
   "outputs": [
    {
     "data": {
      "text/plain": [
       "Index(['ResponseId', 'MainBranch', 'Employment', 'Country', 'EdLevel',\n",
       "       'LearnCode', 'YearsCode', 'YearsCodePro', 'DevType', 'OrgSize',\n",
       "       'Currency', 'CompTotal', 'LanguageHaveWorkedWith',\n",
       "       'LanguageWantToWorkWith', 'DatabaseHaveWorkedWith',\n",
       "       'DatabaseWantToWorkWith', 'PlatformHaveWorkedWith',\n",
       "       'PlatformWantToWorkWith', 'WebframeHaveWorkedWith',\n",
       "       'WebframeWantToWorkWith', 'MiscTechHaveWorkedWith',\n",
       "       'MiscTechWantToWorkWith', 'ToolsTechHaveWorkedWith',\n",
       "       'ToolsTechWantToWorkWith', 'NEWCollabToolsHaveWorkedWith',\n",
       "       'NEWCollabToolsWantToWorkWith', 'NEWSOSites', 'SOVisitFreq',\n",
       "       'SOAccount', 'SOPartFreq', 'SOComm', 'Age', 'SurveyLength',\n",
       "       'SurveyEase', 'ConvertedCompYearly'],\n",
       "      dtype='object')"
      ]
     },
     "execution_count": 6,
     "metadata": {},
     "output_type": "execute_result"
    }
   ],
   "source": [
    "common_columns_21_22 = df_2021.columns.intersection(df_2022.columns)\n",
    "common_columns_all = common_columns_21_22.intersection(df_2023.columns)\n",
    "common_columns_all"
   ]
  },
  {
   "cell_type": "markdown",
   "metadata": {},
   "source": [
    "- Nhóm tạo 1 bộ dữ liệu, được lấy từ việc giao các trường của 3 năm lại với nhau, với việc thêm vào trường `Year` để thuận tiện cho việc xử lý, đồng thời, nhóm cũng bỏ cột RespondID "
   ]
  },
  {
   "cell_type": "code",
   "execution_count": 7,
   "metadata": {},
   "outputs": [],
   "source": [
    "df_2021['Year'] = 2021\n",
    "df_2022['Year'] = 2022\n",
    "df_2023['Year'] = 2023\n",
    "\n",
    "\n",
    "df_new = pd.concat([df_2021[list(common_columns_all)+['Year']], df_2022[list(common_columns_all)+['Year']], df_2023[list(common_columns_all)+['Year']]], ignore_index=True)\n",
    "df_new.drop()\n",
    "# df_new.head(5)"
   ]
  },
  {
   "cell_type": "markdown",
   "metadata": {},
   "source": [
    "#### 2.0. Dữ liệu có bao nhiêu dòng và cột"
   ]
  },
  {
   "cell_type": "code",
   "execution_count": 8,
   "metadata": {},
   "outputs": [
    {
     "data": {
      "text/plain": [
       "(245891, 36)"
      ]
     },
     "execution_count": 8,
     "metadata": {},
     "output_type": "execute_result"
    }
   ],
   "source": [
    "df_new.shape"
   ]
  },
  {
   "cell_type": "markdown",
   "metadata": {},
   "source": [
    "- Dữ liệu có 245891 dòng và 36 cột"
   ]
  },
  {
   "cell_type": "markdown",
   "metadata": {},
   "source": [
    "#### 2.1. Khám phá các dòng"
   ]
  },
  {
   "cell_type": "markdown",
   "metadata": {},
   "source": [
    "- Mỗi dòng là câu trả lời khảo sát của một người tham gia. Mọi người tiến hành tham gia khảo sát trực tiếp trên nền tảng Stack Overflow. Theo tìm hiểu của nhóm, Stack Overflow sử dụng nền tảng Survey Monkey cho việc tạo và quản lý các cuộc khảo sát"
   ]
  },
  {
   "cell_type": "markdown",
   "metadata": {},
   "source": [
    "- Số dòng trùng"
   ]
  },
  {
   "cell_type": "code",
   "execution_count": 10,
   "metadata": {},
   "outputs": [
    {
     "data": {
      "text/plain": [
       "0"
      ]
     },
     "execution_count": 10,
     "metadata": {},
     "output_type": "execute_result"
    }
   ],
   "source": [
    "df_new.duplicated().sum()"
   ]
  },
  {
   "cell_type": "markdown",
   "metadata": {},
   "source": [
    "- Không có dòng nào bị trùng trong bộ dữ liệu"
   ]
  },
  {
   "cell_type": "markdown",
   "metadata": {},
   "source": [
    "#### 2.2. Khám phá các cột"
   ]
  },
  {
   "cell_type": "markdown",
   "metadata": {},
   "source": [
    "- Kiểu dữ liệu từng cột"
   ]
  },
  {
   "cell_type": "code",
   "execution_count": 11,
   "metadata": {},
   "outputs": [
    {
     "data": {
      "text/plain": [
       "ResponseId                        int64\n",
       "MainBranch                       object\n",
       "Employment                       object\n",
       "Country                          object\n",
       "EdLevel                          object\n",
       "LearnCode                        object\n",
       "YearsCode                        object\n",
       "YearsCodePro                     object\n",
       "DevType                          object\n",
       "OrgSize                          object\n",
       "Currency                         object\n",
       "CompTotal                       float64\n",
       "LanguageHaveWorkedWith           object\n",
       "LanguageWantToWorkWith           object\n",
       "DatabaseHaveWorkedWith           object\n",
       "DatabaseWantToWorkWith           object\n",
       "PlatformHaveWorkedWith           object\n",
       "PlatformWantToWorkWith           object\n",
       "WebframeHaveWorkedWith           object\n",
       "WebframeWantToWorkWith           object\n",
       "MiscTechHaveWorkedWith           object\n",
       "MiscTechWantToWorkWith           object\n",
       "ToolsTechHaveWorkedWith          object\n",
       "ToolsTechWantToWorkWith          object\n",
       "NEWCollabToolsHaveWorkedWith     object\n",
       "NEWCollabToolsWantToWorkWith     object\n",
       "NEWSOSites                       object\n",
       "SOVisitFreq                      object\n",
       "SOAccount                        object\n",
       "SOPartFreq                       object\n",
       "SOComm                           object\n",
       "Age                              object\n",
       "SurveyLength                     object\n",
       "SurveyEase                       object\n",
       "ConvertedCompYearly             float64\n",
       "Year                              int64\n",
       "dtype: object"
      ]
     },
     "execution_count": 11,
     "metadata": {},
     "output_type": "execute_result"
    }
   ],
   "source": [
    "df_new.dtypes"
   ]
  },
  {
   "cell_type": "markdown",
   "metadata": {},
   "source": [
    "- Tìm hiểu về các cột có kiểu dữ liệu là object"
   ]
  },
  {
   "cell_type": "code",
   "execution_count": 12,
   "metadata": {},
   "outputs": [
    {
     "data": {
      "text/plain": [
       "MainBranch                                       {<class 'str'>}\n",
       "Employment                      {<class 'float'>, <class 'str'>}\n",
       "Country                         {<class 'float'>, <class 'str'>}\n",
       "EdLevel                         {<class 'float'>, <class 'str'>}\n",
       "LearnCode                       {<class 'float'>, <class 'str'>}\n",
       "YearsCode                       {<class 'float'>, <class 'str'>}\n",
       "YearsCodePro                    {<class 'float'>, <class 'str'>}\n",
       "DevType                         {<class 'float'>, <class 'str'>}\n",
       "OrgSize                         {<class 'float'>, <class 'str'>}\n",
       "Currency                        {<class 'float'>, <class 'str'>}\n",
       "LanguageHaveWorkedWith          {<class 'float'>, <class 'str'>}\n",
       "LanguageWantToWorkWith          {<class 'float'>, <class 'str'>}\n",
       "DatabaseHaveWorkedWith          {<class 'float'>, <class 'str'>}\n",
       "DatabaseWantToWorkWith          {<class 'float'>, <class 'str'>}\n",
       "PlatformHaveWorkedWith          {<class 'float'>, <class 'str'>}\n",
       "PlatformWantToWorkWith          {<class 'float'>, <class 'str'>}\n",
       "WebframeHaveWorkedWith          {<class 'float'>, <class 'str'>}\n",
       "WebframeWantToWorkWith          {<class 'float'>, <class 'str'>}\n",
       "MiscTechHaveWorkedWith          {<class 'float'>, <class 'str'>}\n",
       "MiscTechWantToWorkWith          {<class 'float'>, <class 'str'>}\n",
       "ToolsTechHaveWorkedWith         {<class 'float'>, <class 'str'>}\n",
       "ToolsTechWantToWorkWith         {<class 'float'>, <class 'str'>}\n",
       "NEWCollabToolsHaveWorkedWith    {<class 'float'>, <class 'str'>}\n",
       "NEWCollabToolsWantToWorkWith    {<class 'float'>, <class 'str'>}\n",
       "NEWSOSites                      {<class 'float'>, <class 'str'>}\n",
       "SOVisitFreq                     {<class 'float'>, <class 'str'>}\n",
       "SOAccount                       {<class 'float'>, <class 'str'>}\n",
       "SOPartFreq                      {<class 'float'>, <class 'str'>}\n",
       "SOComm                          {<class 'float'>, <class 'str'>}\n",
       "Age                             {<class 'float'>, <class 'str'>}\n",
       "SurveyLength                    {<class 'float'>, <class 'str'>}\n",
       "SurveyEase                      {<class 'float'>, <class 'str'>}\n",
       "dtype: object"
      ]
     },
     "execution_count": 12,
     "metadata": {},
     "output_type": "execute_result"
    }
   ],
   "source": [
    "def open_object_dtype(s):\n",
    "    dtypes = set()\n",
    "    dtypes.update(s.apply(type))\n",
    "    return dtypes\n",
    "\n",
    "df_new[df_new.dtypes.index[df_new.dtypes == object]].apply(open_object_dtype)"
   ]
  },
  {
   "cell_type": "markdown",
   "metadata": {},
   "source": [
    "- Tìm các cột có dạng multiple choice"
   ]
  },
  {
   "cell_type": "code",
   "execution_count": 14,
   "metadata": {},
   "outputs": [
    {
     "data": {
      "text/plain": [
       "MainBranch                      False\n",
       "Employment                       True\n",
       "Country                         False\n",
       "EdLevel                         False\n",
       "LearnCode                        True\n",
       "YearsCode                       False\n",
       "YearsCodePro                    False\n",
       "DevType                          True\n",
       "OrgSize                         False\n",
       "Currency                        False\n",
       "LanguageHaveWorkedWith           True\n",
       "LanguageWantToWorkWith           True\n",
       "DatabaseHaveWorkedWith           True\n",
       "DatabaseWantToWorkWith           True\n",
       "PlatformHaveWorkedWith           True\n",
       "PlatformWantToWorkWith           True\n",
       "WebframeHaveWorkedWith           True\n",
       "WebframeWantToWorkWith           True\n",
       "MiscTechHaveWorkedWith           True\n",
       "MiscTechWantToWorkWith           True\n",
       "ToolsTechHaveWorkedWith          True\n",
       "ToolsTechWantToWorkWith          True\n",
       "NEWCollabToolsHaveWorkedWith     True\n",
       "NEWCollabToolsWantToWorkWith     True\n",
       "NEWSOSites                       True\n",
       "SOVisitFreq                     False\n",
       "SOAccount                       False\n",
       "SOPartFreq                      False\n",
       "SOComm                          False\n",
       "Age                             False\n",
       "SurveyLength                    False\n",
       "SurveyEase                      False\n",
       "dtype: bool"
      ]
     },
     "execution_count": 14,
     "metadata": {},
     "output_type": "execute_result"
    }
   ],
   "source": [
    "def is_multiple(column):\n",
    "    return column.str.contains(';').any()\n",
    "\n",
    "df_new[df_new.dtypes.index[df_new.dtypes == object]].apply(is_multiple)"
   ]
  },
  {
   "cell_type": "markdown",
   "metadata": {},
   "source": [
    "- Có thể thấy, với các cột numerical, kiểu dữ liệu là float hoặc int đúng như dự tính\n",
    "- Với các cột có kiểu dữ liệu Object, do trong bộ dữ liệu có NA (người tham gia không trả lời), nên đa số sẽ có 2 kiểu con là float và str. Tuy vậy, với các cột Employment, LearnCode, DevType, LanguageHaveWorkedWith, LanguageWantToWorkWith, DatabaseHaveWorkedWith, DatabaseWantToWorkWith, PlatformHaveWorkedWith, PlatformWantToWorkWith, WebframeHaveWorkedWith, WebframeWantToWorkWith, MiscTechHaveWorkedWith, MiscTechWantToWorkWith, ToolsTechHaveWorkedWith, ToolsTechWantToWorkWith, NEWCollabToolsHaveWorkedWith, NEWCollabToolsWantToWorkWith, NEWSOSites là dạng multiple choice, vì vậy tùy theo mục đích mà có cách xử lý dữ liệu khác nhau "
   ]
  },
  {
   "cell_type": "markdown",
   "metadata": {},
   "source": [
    "#### 2.3. Xóa các cột không có ý nghĩa"
   ]
  },
  {
   "cell_type": "markdown",
   "metadata": {},
   "source": [
    "- Sau khi hợp nhất 3 bộ dữ liệu, có một số cột mất đi ý nghĩa của nó: cụ thể là cột `ResponseId`, cột `CompTotal` (do các năm 2021, 2022, người tham gia được chọn tính theo tuần/tháng/năm, nhưng năm 2023 thì chỉ được tính theo n) "
   ]
  },
  {
   "cell_type": "code",
   "execution_count": 15,
   "metadata": {},
   "outputs": [],
   "source": [
    "df_new=df_new.drop(['ResponseId','CompTotal'],axis=1)"
   ]
  },
  {
   "cell_type": "markdown",
   "metadata": {},
   "source": [
    "#### 2.4. Phân bố dữ liệu ở các cột"
   ]
  },
  {
   "cell_type": "markdown",
   "metadata": {},
   "source": [
    "##### Các cột kiểu số\n",
    "- Với các cột kiểu số: ta có 2 cột , ConvertedCompYearly và Year. Ta sẽ xem sự phân bố của giá trị, cũng như tính max, min và phần trăm mất mát. Do cột year là cột được thêm vào, ta chỉ xem sự phân bổ để xem số lượng dữ liệu mỗi năm "
   ]
  },
  {
   "cell_type": "code",
   "execution_count": 17,
   "metadata": {},
   "outputs": [
    {
     "name": "stdout",
     "output_type": "stream",
     "text": [
      "                    ConvertedCompYearly    Year\n",
      "Missing percentage         4.593783e+01     0.0\n",
      "Min                        1.000000e+00  2021.0\n",
      "Max                        7.435143e+07  2023.0\n"
     ]
    }
   ],
   "source": [
    "num_cols = [ \"ConvertedCompYearly\", \"Year\"]\n",
    "\n",
    "missing_percentages = np.sum(df_new[num_cols].isna(), axis=0) / df_new.shape[0] * 100\n",
    "mins = df_new[num_cols].quantile(0, numeric_only=False)\n",
    "maxs = df_new[num_cols].quantile(1, numeric_only=False)\n",
    "\n",
    "\n",
    "mins = mins.astype(float)\n",
    "maxs = maxs.astype(float)\n",
    "# Create DataFrame\n",
    "info = pd.DataFrame({\"Missing percentage\": missing_percentages, \"Min\": mins, \"Max\": maxs})\n",
    "\n",
    "\n",
    "info = info.transpose()\n",
    "\n",
    "print(info)"
   ]
  },
  {
   "cell_type": "markdown",
   "metadata": {},
   "source": [
    "- Có thể thấy, thu nhập theo năm có hiệu giữa max và min khá lớn, vì vậy việc vẽ biểu đồ là khá khó, ở đây, em sẽ phân tích xem có bao nhiêu dữ liệu ứng với từng bin 25,50,75,199 và vẽ biểu đồ histogram dạng log-scale"
   ]
  },
  {
   "cell_type": "code",
   "execution_count": 21,
   "metadata": {},
   "outputs": [
    {
     "name": "stdout",
     "output_type": "stream",
     "text": [
      "ConvertedCompYearly\n",
      "(0.999, 35028.0]          33254\n",
      "(114115.0, 74351432.0]    33234\n",
      "(66130.0, 114115.0]       33232\n",
      "(35028.0, 66130.0]        33214\n",
      "Name: count, dtype: int64\n"
     ]
    }
   ],
   "source": [
    "bins = [df_new[\"ConvertedCompYearly\"].quantile(0), df_new[\"ConvertedCompYearly\"].quantile(0.25),df_new[\"ConvertedCompYearly\"].quantile(0.5),df_new[\"ConvertedCompYearly\"].quantile(0.75), df_new[\"ConvertedCompYearly\"].quantile(1)]\n",
    "# Sử dụng pd.cut để tạo các bin\n",
    "binned_data = pd.cut(df_new['ConvertedCompYearly'], bins=bins, include_lowest=True)\n",
    "\n",
    "\n",
    "bin_counts = binned_data.value_counts()\n",
    "print(bin_counts)\n",
    "# print(df_new[\"ConvertedCompYearly\"].isna().sum()/df_new[\"ConvertedCompYearly\"].shape[0])\n"
   ]
  },
  {
   "cell_type": "markdown",
   "metadata": {},
   "source": [
    "- Ta thấy được dữ liệu được trải vào các bin khá đều, tiếp theo, ta sẽ xem qua biểu đồ log scale histogram"
   ]
  },
  {
   "cell_type": "code",
   "execution_count": 20,
   "metadata": {},
   "outputs": [
    {
     "data": {
      "image/png": "[encoded data removed]",
      "text/plain": [
       "<Figure size 640x480 with 1 Axes>"
      ]
     },
     "metadata": {},
     "output_type": "display_data"
    }
   ],
   "source": [
    "bin_size=int(1+np.log2(df_new.shape[0]))\n",
    "plt.hist(df_new[\"ConvertedCompYearly\"], bins=bin_size, edgecolor='black', log=True)\n",
    "\n",
    "# Thêm tiêu đề và nhãn trục\n",
    "plt.title('Log-Scale Histogram')\n",
    "plt.xlabel('Thu nhập (log-scale)')\n",
    "plt.ylabel('Số lượng (log-scale)')\n",
    "\n",
    "# Hiển thị biểu đồ\n",
    "plt.show()"
   ]
  },
  {
   "cell_type": "markdown",
   "metadata": {},
   "source": [
    "- Như vậy, ta thấy được đa số có mức lương từ 0 dến 1x10^7, Các mức khác có số lượng ít (khoảng 10 người)"
   ]
  },
  {
   "cell_type": "markdown",
   "metadata": {},
   "source": [
    "<h1><center>Đặt câu hỏi và trả lời</center></h1>"
   ]
  }
 ],
 "metadata": {
  "kernelspec": {
   "display_name": "Python 3",
   "language": "python",
   "name": "python3"
  },
  "language_info": {
   "codemirror_mode": {
    "name": "ipython",
    "version": 3
   },
   "file_extension": ".py",
   "mimetype": "text/x-python",
   "name": "python",
   "nbconvert_exporter": "python",
   "pygments_lexer": "ipython3",
   "version": "3.11.4"
  }
 },
 "nbformat": 4,
 "nbformat_minor": 2
}
